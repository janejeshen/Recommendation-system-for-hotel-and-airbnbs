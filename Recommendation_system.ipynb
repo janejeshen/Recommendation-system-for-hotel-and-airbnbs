{
 "cells": [
  {
   "cell_type": "markdown",
   "id": "be028bad-25cd-4193-bbc5-45721ab607e0",
   "metadata": {},
   "source": [
    "# BUSINESS UNDERSTANDING\n",
    "## OVERVIEW\n",
    "Selecting a hotel or any accommodation has become challenging to many travelers due to the many options available. This is why it is important for property owners to be able to bridge their accommodations with tomorrow’s customers in order to increase the number of bookings as well as keep their guests satisfied. This project focuses on developing a recommendation tool that would recommend places of accommodation based on the user’s preferences with respect to such features as location, price, and amenities. system uses advanced tools and methods, in particular, property details are scanned using machine learning techniques and language processing to give recommendations for the individual. It resolves limitations of the previous systems, one of which is difficulty in making recommendations for unfamiliar users or lack of sufficient information. In view of this, the system, which is aimed at providing an intuitive user interface, is targeted at, and making accurate and effective recommendations, aims at making the search for properties less time consuming which would improve the experience of travelers.\n",
    "\n",
    "## PROBLEM STATEMENT\n",
    "Nowadays people who are traveling find it difficult to select the right hotel or an Airbnb to stay due to their large number of choices available. This happens because different properties have different features such as location, budget and amenities or other personal needs. Also, the property owners in these platforms would want their properties to be matched to the right customers so that the rate they get booked increases and also to make sure that the customers are satisfied. Therefore, there is need of a solution that will use the specific features of each property to match travelers with the best accommodations for them based on their preferences while also property owners benefiting.\n",
    "## GENERAL OBJECTIVES\n",
    "To develop a feature-based recommendations system for hotels and Airbnb that matches a person with accommodation based on property features such as location, price and amenities thereby improving user satisfaction, increasing booking rates and improving the visibility of properties.\n",
    "\n",
    "## SPECIFIC OBJECTIVES\n",
    "* To develop a recommendation system that suggests hotels and Airbnb’s based on the features of the property that is the location, price and amenities available.\n",
    "* To improve customer satisfaction by recommending them with properties that almost match with their preference in terms of features they want.\n",
    "* To reduce the time people, spend when selecting a place to stay by giving them relevant recommendations based on property attributes.\n",
    "* To increase hotel and Airbnb booking by matching customers with the most ones and therefore benefiting the property owners.\n",
    "\n",
    "\n",
    "## BUSINESS QUESTIONS \n",
    "1. In what ways do specific suggestions help clients find what they need faster and improve their booking experience?  \n",
    "2. What key features of a property sway a customer's decision when they are booking?  \n",
    "3. How can we make accommodation recommendations more personalized to boost customer satisfaction?\n",
    "4. How can we make sure that property owners benefit from boosting their properties' visibility and booking rate?\n",
    "5. How can we accurately recommend accommodation to travelers based on their tastes and property attributes like cost, location, and facilities?\n",
    "## EXPECTED BENEFITS TO THE ORGANISATION\n",
    "- Increased Customer Satisfaction\n",
    "- Higher Booking of accomodation.\n",
    "- Improved Property Visibility\n",
    "- Optimized Search Experience\n",
    "## BUSINESS SUCCESS CRITERIA \n",
    "- Observing an increase in property bookings.\n",
    "- Increased listing updates from property owners because of higher booking rates.\n",
    "- Receiving positive feedback from travelers.\n",
    "\n",
    "## PROJECT SUCCESS CRITERIS\n",
    "\n",
    "## ASSESSING THE SITUATION\n",
    "### Risks\n",
    "Inaccurate recommendations leading to unsatisfied users.\n",
    "### Limitations\n",
    "- Availability and quality of property data. \n",
    "### Assumptions\n",
    "Users have provided accurate information about their preferences.\n",
    "\n",
    "## PROJECT GOALS\n",
    "- Developing a hotel and airbnbs app recommendation system.\n",
    "- Enhance user experience by giving customers personalized recommendations.\n",
    "- Boost the rate of accomodation booking.\n",
    "- Support accomodation owners by increasing visibility of their property.\n",
    "## PROJECT PLAN\n",
    "\n",
    "Business Understanding\n",
    "\n",
    "Data Understanding\n",
    "\n",
    "Data Preparation\n",
    "\n",
    "Exploratory Data Analysis\n",
    "\n",
    "Feature Engineering\n",
    "\n",
    "Modeling\n",
    "\n",
    "Model Evaluation\n",
    "\n",
    "Deployment\n",
    "\n",
    "# DATA UNDERSTANDING \n",
    "## OVERVIEW\n",
    "\n",
    "## DATA DESCRIPTION\n",
    "\n",
    "\n"
   ]
  },
  {
   "cell_type": "code",
   "execution_count": 2,
   "id": "d3628ec0-fde0-46d0-94be-d8959ff400e3",
   "metadata": {},
   "outputs": [],
   "source": [
    "# Importing libraries\n",
    "import pandas as pd\n",
    "import numpy as np\n",
    "import warnings\n",
    "warnings.filterwarnings(\"ignore\")\n",
    "from IPython.display import display\n",
    "import seaborn as sns\n",
    "import matplotlib.pyplot as plt\n",
    "%matplotlib inline\n",
    "plt.style.use('ggplot')\n",
    "import re\n",
    "from wordcloud import WordCloud\n",
    "import spacy\n",
    "from langdetect import detect, DetectorFactory\n",
    "from sklearn.feature_extraction.text import TfidfVectorizer\n",
    "from sklearn.preprocessing import StandardScaler, MinMaxScaler\n",
    "from sklearn.metrics.pairwise import cosine_similarity\n",
    "from sklearn.metrics import jaccard_score\n",
    "from scipy.spatial.distance import hamming\n",
    "pd.set_option('display.max_colwidth', None)"
   ]
  },
  {
   "cell_type": "code",
   "execution_count": 3,
   "id": "db5cdfbb-dd53-4e50-a95d-86344acee963",
   "metadata": {},
   "outputs": [
    {
     "data": {
      "text/html": [
       "<div>\n",
       "<style scoped>\n",
       "    .dataframe tbody tr th:only-of-type {\n",
       "        vertical-align: middle;\n",
       "    }\n",
       "\n",
       "    .dataframe tbody tr th {\n",
       "        vertical-align: top;\n",
       "    }\n",
       "\n",
       "    .dataframe thead th {\n",
       "        text-align: right;\n",
       "    }\n",
       "</style>\n",
       "<table border=\"1\" class=\"dataframe\">\n",
       "  <thead>\n",
       "    <tr style=\"text-align: right;\">\n",
       "      <th></th>\n",
       "      <th>id</th>\n",
       "      <th>log_price</th>\n",
       "      <th>property_type</th>\n",
       "      <th>room_type</th>\n",
       "      <th>amenities</th>\n",
       "      <th>accommodates</th>\n",
       "      <th>bathrooms</th>\n",
       "      <th>bed_type</th>\n",
       "      <th>cancellation_policy</th>\n",
       "      <th>cleaning_fee</th>\n",
       "      <th>...</th>\n",
       "      <th>latitude</th>\n",
       "      <th>longitude</th>\n",
       "      <th>name</th>\n",
       "      <th>neighbourhood</th>\n",
       "      <th>number_of_reviews</th>\n",
       "      <th>review_scores_rating</th>\n",
       "      <th>thumbnail_url</th>\n",
       "      <th>zipcode</th>\n",
       "      <th>bedrooms</th>\n",
       "      <th>beds</th>\n",
       "    </tr>\n",
       "  </thead>\n",
       "  <tbody>\n",
       "    <tr>\n",
       "      <th>0</th>\n",
       "      <td>6901257</td>\n",
       "      <td>5.010635</td>\n",
       "      <td>Apartment</td>\n",
       "      <td>Entire home/apt</td>\n",
       "      <td>{\"Wireless Internet\",\"Air conditioning\",Kitchen,Heating,\"Family/kid friendly\",Essentials,\"Hair dryer\",Iron,\"translation missing: en.hosting_amenity_50\"}</td>\n",
       "      <td>3</td>\n",
       "      <td>1.0</td>\n",
       "      <td>Real Bed</td>\n",
       "      <td>strict</td>\n",
       "      <td>True</td>\n",
       "      <td>...</td>\n",
       "      <td>40.696524</td>\n",
       "      <td>-73.991617</td>\n",
       "      <td>Beautiful brownstone 1-bedroom</td>\n",
       "      <td>Brooklyn Heights</td>\n",
       "      <td>2</td>\n",
       "      <td>100.0</td>\n",
       "      <td>https://a0.muscache.com/im/pictures/6d7cbbf7-c034-459c-bc82-6522c957627c.jpg?aki_policy=small</td>\n",
       "      <td>11201</td>\n",
       "      <td>1.0</td>\n",
       "      <td>1.0</td>\n",
       "    </tr>\n",
       "    <tr>\n",
       "      <th>1</th>\n",
       "      <td>6304928</td>\n",
       "      <td>5.129899</td>\n",
       "      <td>Apartment</td>\n",
       "      <td>Entire home/apt</td>\n",
       "      <td>{\"Wireless Internet\",\"Air conditioning\",Kitchen,Heating,\"Family/kid friendly\",Washer,Dryer,\"Smoke detector\",\"Fire extinguisher\",Essentials,Shampoo,Hangers,\"Hair dryer\",Iron,\"translation missing: en.hosting_amenity_50\"}</td>\n",
       "      <td>7</td>\n",
       "      <td>1.0</td>\n",
       "      <td>Real Bed</td>\n",
       "      <td>strict</td>\n",
       "      <td>True</td>\n",
       "      <td>...</td>\n",
       "      <td>40.766115</td>\n",
       "      <td>-73.989040</td>\n",
       "      <td>Superb 3BR Apt Located Near Times Square</td>\n",
       "      <td>Hell's Kitchen</td>\n",
       "      <td>6</td>\n",
       "      <td>93.0</td>\n",
       "      <td>https://a0.muscache.com/im/pictures/348a55fe-4b65-452a-b48a-bfecb3b58a66.jpg?aki_policy=small</td>\n",
       "      <td>10019</td>\n",
       "      <td>3.0</td>\n",
       "      <td>3.0</td>\n",
       "    </tr>\n",
       "    <tr>\n",
       "      <th>2</th>\n",
       "      <td>7919400</td>\n",
       "      <td>4.976734</td>\n",
       "      <td>Apartment</td>\n",
       "      <td>Entire home/apt</td>\n",
       "      <td>{TV,\"Cable TV\",\"Wireless Internet\",\"Air conditioning\",Kitchen,Breakfast,\"Buzzer/wireless intercom\",Heating,\"Family/kid friendly\",\"Smoke detector\",\"Carbon monoxide detector\",\"Fire extinguisher\",Essentials,Shampoo,Hangers,\"Hair dryer\",Iron,\"Laptop friendly workspace\",\"translation missing: en.hosting_amenity_50\"}</td>\n",
       "      <td>5</td>\n",
       "      <td>1.0</td>\n",
       "      <td>Real Bed</td>\n",
       "      <td>moderate</td>\n",
       "      <td>True</td>\n",
       "      <td>...</td>\n",
       "      <td>40.808110</td>\n",
       "      <td>-73.943756</td>\n",
       "      <td>The Garden Oasis</td>\n",
       "      <td>Harlem</td>\n",
       "      <td>10</td>\n",
       "      <td>92.0</td>\n",
       "      <td>https://a0.muscache.com/im/pictures/6fae5362-9e3a-4fa9-aa54-bbd5ea26538d.jpg?aki_policy=small</td>\n",
       "      <td>10027</td>\n",
       "      <td>1.0</td>\n",
       "      <td>3.0</td>\n",
       "    </tr>\n",
       "    <tr>\n",
       "      <th>3</th>\n",
       "      <td>13418779</td>\n",
       "      <td>6.620073</td>\n",
       "      <td>House</td>\n",
       "      <td>Entire home/apt</td>\n",
       "      <td>{TV,\"Cable TV\",Internet,\"Wireless Internet\",Kitchen,\"Indoor fireplace\",\"Buzzer/wireless intercom\",Heating,Washer,Dryer,\"Smoke detector\",\"Carbon monoxide detector\",\"First aid kit\",\"Fire extinguisher\",Essentials}</td>\n",
       "      <td>4</td>\n",
       "      <td>1.0</td>\n",
       "      <td>Real Bed</td>\n",
       "      <td>flexible</td>\n",
       "      <td>True</td>\n",
       "      <td>...</td>\n",
       "      <td>37.772004</td>\n",
       "      <td>-122.431619</td>\n",
       "      <td>Beautiful Flat in the Heart of SF!</td>\n",
       "      <td>Lower Haight</td>\n",
       "      <td>0</td>\n",
       "      <td>NaN</td>\n",
       "      <td>https://a0.muscache.com/im/pictures/72208dad-9c86-41ea-a735-43d933111063.jpg?aki_policy=small</td>\n",
       "      <td>94117.0</td>\n",
       "      <td>2.0</td>\n",
       "      <td>2.0</td>\n",
       "    </tr>\n",
       "    <tr>\n",
       "      <th>4</th>\n",
       "      <td>3808709</td>\n",
       "      <td>4.744932</td>\n",
       "      <td>Apartment</td>\n",
       "      <td>Entire home/apt</td>\n",
       "      <td>{TV,Internet,\"Wireless Internet\",\"Air conditioning\",Kitchen,\"Elevator in building\",Heating,\"Smoke detector\",\"Carbon monoxide detector\",\"Fire extinguisher\",Essentials,Shampoo}</td>\n",
       "      <td>2</td>\n",
       "      <td>1.0</td>\n",
       "      <td>Real Bed</td>\n",
       "      <td>moderate</td>\n",
       "      <td>True</td>\n",
       "      <td>...</td>\n",
       "      <td>38.925627</td>\n",
       "      <td>-77.034596</td>\n",
       "      <td>Great studio in midtown DC</td>\n",
       "      <td>Columbia Heights</td>\n",
       "      <td>4</td>\n",
       "      <td>40.0</td>\n",
       "      <td>NaN</td>\n",
       "      <td>20009</td>\n",
       "      <td>0.0</td>\n",
       "      <td>1.0</td>\n",
       "    </tr>\n",
       "  </tbody>\n",
       "</table>\n",
       "<p>5 rows × 29 columns</p>\n",
       "</div>"
      ],
      "text/plain": [
       "         id  log_price property_type        room_type  \\\n",
       "0   6901257   5.010635     Apartment  Entire home/apt   \n",
       "1   6304928   5.129899     Apartment  Entire home/apt   \n",
       "2   7919400   4.976734     Apartment  Entire home/apt   \n",
       "3  13418779   6.620073         House  Entire home/apt   \n",
       "4   3808709   4.744932     Apartment  Entire home/apt   \n",
       "\n",
       "                                                                                                                                                                                                                                                                                                                 amenities  \\\n",
       "0                                                                                                                                                                 {\"Wireless Internet\",\"Air conditioning\",Kitchen,Heating,\"Family/kid friendly\",Essentials,\"Hair dryer\",Iron,\"translation missing: en.hosting_amenity_50\"}   \n",
       "1                                                                                               {\"Wireless Internet\",\"Air conditioning\",Kitchen,Heating,\"Family/kid friendly\",Washer,Dryer,\"Smoke detector\",\"Fire extinguisher\",Essentials,Shampoo,Hangers,\"Hair dryer\",Iron,\"translation missing: en.hosting_amenity_50\"}   \n",
       "2  {TV,\"Cable TV\",\"Wireless Internet\",\"Air conditioning\",Kitchen,Breakfast,\"Buzzer/wireless intercom\",Heating,\"Family/kid friendly\",\"Smoke detector\",\"Carbon monoxide detector\",\"Fire extinguisher\",Essentials,Shampoo,Hangers,\"Hair dryer\",Iron,\"Laptop friendly workspace\",\"translation missing: en.hosting_amenity_50\"}   \n",
       "3                                                                                                       {TV,\"Cable TV\",Internet,\"Wireless Internet\",Kitchen,\"Indoor fireplace\",\"Buzzer/wireless intercom\",Heating,Washer,Dryer,\"Smoke detector\",\"Carbon monoxide detector\",\"First aid kit\",\"Fire extinguisher\",Essentials}   \n",
       "4                                                                                                                                           {TV,Internet,\"Wireless Internet\",\"Air conditioning\",Kitchen,\"Elevator in building\",Heating,\"Smoke detector\",\"Carbon monoxide detector\",\"Fire extinguisher\",Essentials,Shampoo}   \n",
       "\n",
       "   accommodates  bathrooms  bed_type cancellation_policy  cleaning_fee  ...  \\\n",
       "0             3        1.0  Real Bed              strict          True  ...   \n",
       "1             7        1.0  Real Bed              strict          True  ...   \n",
       "2             5        1.0  Real Bed            moderate          True  ...   \n",
       "3             4        1.0  Real Bed            flexible          True  ...   \n",
       "4             2        1.0  Real Bed            moderate          True  ...   \n",
       "\n",
       "    latitude   longitude                                      name  \\\n",
       "0  40.696524  -73.991617            Beautiful brownstone 1-bedroom   \n",
       "1  40.766115  -73.989040  Superb 3BR Apt Located Near Times Square   \n",
       "2  40.808110  -73.943756                          The Garden Oasis   \n",
       "3  37.772004 -122.431619        Beautiful Flat in the Heart of SF!   \n",
       "4  38.925627  -77.034596                Great studio in midtown DC   \n",
       "\n",
       "      neighbourhood number_of_reviews review_scores_rating  \\\n",
       "0  Brooklyn Heights                 2                100.0   \n",
       "1    Hell's Kitchen                 6                 93.0   \n",
       "2            Harlem                10                 92.0   \n",
       "3      Lower Haight                 0                  NaN   \n",
       "4  Columbia Heights                 4                 40.0   \n",
       "\n",
       "                                                                                   thumbnail_url  \\\n",
       "0  https://a0.muscache.com/im/pictures/6d7cbbf7-c034-459c-bc82-6522c957627c.jpg?aki_policy=small   \n",
       "1  https://a0.muscache.com/im/pictures/348a55fe-4b65-452a-b48a-bfecb3b58a66.jpg?aki_policy=small   \n",
       "2  https://a0.muscache.com/im/pictures/6fae5362-9e3a-4fa9-aa54-bbd5ea26538d.jpg?aki_policy=small   \n",
       "3  https://a0.muscache.com/im/pictures/72208dad-9c86-41ea-a735-43d933111063.jpg?aki_policy=small   \n",
       "4                                                                                            NaN   \n",
       "\n",
       "   zipcode bedrooms  beds  \n",
       "0    11201      1.0   1.0  \n",
       "1    10019      3.0   3.0  \n",
       "2    10027      1.0   3.0  \n",
       "3  94117.0      2.0   2.0  \n",
       "4    20009      0.0   1.0  \n",
       "\n",
       "[5 rows x 29 columns]"
      ]
     },
     "execution_count": 3,
     "metadata": {},
     "output_type": "execute_result"
    }
   ],
   "source": [
    "# Loading the data\n",
    "df = pd.read_csv(\"data_2/Airbnb_Data.csv\")\n",
    "# Previewing the first five rows of the dataset\n",
    "df.head()"
   ]
  },
  {
   "cell_type": "code",
   "execution_count": 4,
   "id": "cd552615-9b96-42a1-8ad8-f436293480b4",
   "metadata": {},
   "outputs": [
    {
     "data": {
      "text/html": [
       "<div>\n",
       "<style scoped>\n",
       "    .dataframe tbody tr th:only-of-type {\n",
       "        vertical-align: middle;\n",
       "    }\n",
       "\n",
       "    .dataframe tbody tr th {\n",
       "        vertical-align: top;\n",
       "    }\n",
       "\n",
       "    .dataframe thead th {\n",
       "        text-align: right;\n",
       "    }\n",
       "</style>\n",
       "<table border=\"1\" class=\"dataframe\">\n",
       "  <thead>\n",
       "    <tr style=\"text-align: right;\">\n",
       "      <th></th>\n",
       "      <th>id</th>\n",
       "      <th>log_price</th>\n",
       "      <th>property_type</th>\n",
       "      <th>room_type</th>\n",
       "      <th>amenities</th>\n",
       "      <th>accommodates</th>\n",
       "      <th>bathrooms</th>\n",
       "      <th>bed_type</th>\n",
       "      <th>cancellation_policy</th>\n",
       "      <th>cleaning_fee</th>\n",
       "      <th>...</th>\n",
       "      <th>latitude</th>\n",
       "      <th>longitude</th>\n",
       "      <th>name</th>\n",
       "      <th>neighbourhood</th>\n",
       "      <th>number_of_reviews</th>\n",
       "      <th>review_scores_rating</th>\n",
       "      <th>thumbnail_url</th>\n",
       "      <th>zipcode</th>\n",
       "      <th>bedrooms</th>\n",
       "      <th>beds</th>\n",
       "    </tr>\n",
       "  </thead>\n",
       "  <tbody>\n",
       "    <tr>\n",
       "      <th>74106</th>\n",
       "      <td>14549287</td>\n",
       "      <td>4.605170</td>\n",
       "      <td>Apartment</td>\n",
       "      <td>Private room</td>\n",
       "      <td>{}</td>\n",
       "      <td>1</td>\n",
       "      <td>1.0</td>\n",
       "      <td>Real Bed</td>\n",
       "      <td>flexible</td>\n",
       "      <td>False</td>\n",
       "      <td>...</td>\n",
       "      <td>40.709025</td>\n",
       "      <td>-73.939405</td>\n",
       "      <td>one room bushwick</td>\n",
       "      <td>Williamsburg</td>\n",
       "      <td>0</td>\n",
       "      <td>NaN</td>\n",
       "      <td>https://a0.muscache.com/im/pictures/55162426/6016bc16_original.jpg?aki_policy=small</td>\n",
       "      <td>11206.0</td>\n",
       "      <td>1.0</td>\n",
       "      <td>1.0</td>\n",
       "    </tr>\n",
       "    <tr>\n",
       "      <th>74107</th>\n",
       "      <td>13281809</td>\n",
       "      <td>5.043425</td>\n",
       "      <td>Apartment</td>\n",
       "      <td>Entire home/apt</td>\n",
       "      <td>{TV,\"Cable TV\",Internet,\"Wireless Internet\",Kitchen,\"Free parking on premises\",Heating,\"Family/kid friendly\",Washer,Dryer,\"Smoke detector\",Essentials,Shampoo,Hangers,\"Hair dryer\",\"translation missing: en.hosting_amenity_50\"}</td>\n",
       "      <td>4</td>\n",
       "      <td>2.0</td>\n",
       "      <td>Real Bed</td>\n",
       "      <td>moderate</td>\n",
       "      <td>True</td>\n",
       "      <td>...</td>\n",
       "      <td>33.871549</td>\n",
       "      <td>-118.396053</td>\n",
       "      <td>Spacious Hermosa 2 BR on PCH</td>\n",
       "      <td>Hermosa Beach</td>\n",
       "      <td>16</td>\n",
       "      <td>93.0</td>\n",
       "      <td>https://a0.muscache.com/im/pictures/2b86560b-a94e-427c-bafd-7971a3edca9b.jpg?aki_policy=small</td>\n",
       "      <td>90254</td>\n",
       "      <td>2.0</td>\n",
       "      <td>4.0</td>\n",
       "    </tr>\n",
       "    <tr>\n",
       "      <th>74108</th>\n",
       "      <td>18688039</td>\n",
       "      <td>5.220356</td>\n",
       "      <td>Apartment</td>\n",
       "      <td>Entire home/apt</td>\n",
       "      <td>{TV,Internet,\"Wireless Internet\",\"Air conditioning\",Kitchen,Gym,Elevator,\"Buzzer/wireless intercom\",Heating,\"Family/kid friendly\",Washer,Dryer,\"Smoke detector\",\"Carbon monoxide detector\",\"First aid kit\",Essentials,Shampoo,Hangers,\"Hair dryer\",Iron,\"Laptop friendly workspace\",\"Hot water\",\"Bed linens\",Microwave,\"Coffee maker\",Refrigerator,Dishwasher,\"Dishes and silverware\",\"Cooking basics\",Oven,Stove}</td>\n",
       "      <td>5</td>\n",
       "      <td>1.0</td>\n",
       "      <td>Real Bed</td>\n",
       "      <td>moderate</td>\n",
       "      <td>True</td>\n",
       "      <td>...</td>\n",
       "      <td>40.706749</td>\n",
       "      <td>-73.942377</td>\n",
       "      <td>Modern 2 Bedroom Apartment in Williamsburg</td>\n",
       "      <td>Williamsburg</td>\n",
       "      <td>43</td>\n",
       "      <td>94.0</td>\n",
       "      <td>https://a0.muscache.com/im/pictures/7fbe448c-5293-4a22-a83e-54c8bc1bbf0d.jpg?aki_policy=small</td>\n",
       "      <td>11206.0</td>\n",
       "      <td>2.0</td>\n",
       "      <td>2.0</td>\n",
       "    </tr>\n",
       "    <tr>\n",
       "      <th>74109</th>\n",
       "      <td>17045948</td>\n",
       "      <td>5.273000</td>\n",
       "      <td>Apartment</td>\n",
       "      <td>Entire home/apt</td>\n",
       "      <td>{TV,\"Wireless Internet\",\"Air conditioning\",Kitchen,Heating,Washer,Dryer,\"Smoke detector\",\"Carbon monoxide detector\",Essentials,Shampoo,Hangers,\"Hair dryer\",Iron,\"Laptop friendly workspace\"}</td>\n",
       "      <td>2</td>\n",
       "      <td>1.0</td>\n",
       "      <td>Real Bed</td>\n",
       "      <td>strict</td>\n",
       "      <td>True</td>\n",
       "      <td>...</td>\n",
       "      <td>40.738535</td>\n",
       "      <td>-74.000157</td>\n",
       "      <td>Designer's Apartment in HEART of NYC</td>\n",
       "      <td>West Village</td>\n",
       "      <td>0</td>\n",
       "      <td>NaN</td>\n",
       "      <td>https://a0.muscache.com/im/pictures/b3971b63-06d9-4417-86ca-e6b40c22edca.jpg?aki_policy=small</td>\n",
       "      <td>10011</td>\n",
       "      <td>0.0</td>\n",
       "      <td>2.0</td>\n",
       "    </tr>\n",
       "    <tr>\n",
       "      <th>74110</th>\n",
       "      <td>3534845</td>\n",
       "      <td>4.852030</td>\n",
       "      <td>Boat</td>\n",
       "      <td>Entire home/apt</td>\n",
       "      <td>{TV,Internet,\"Wireless Internet\",Kitchen,\"Free parking on premises\",Heating,\"Family/kid friendly\",\"Smoke detector\",\"Carbon monoxide detector\",\"First aid kit\",\"Safety card\",\"Fire extinguisher\",Essentials,Shampoo,\"24-hour check-in\",Hangers,\"Hair dryer\",\"Laptop friendly workspace\"}</td>\n",
       "      <td>4</td>\n",
       "      <td>1.0</td>\n",
       "      <td>Real Bed</td>\n",
       "      <td>moderate</td>\n",
       "      <td>False</td>\n",
       "      <td>...</td>\n",
       "      <td>33.761096</td>\n",
       "      <td>-118.192409</td>\n",
       "      <td>Cozy Boat at Shoreline Village</td>\n",
       "      <td>Long Beach</td>\n",
       "      <td>205</td>\n",
       "      <td>96.0</td>\n",
       "      <td>https://a0.muscache.com/im/pictures/22968537/da0156bc_original.jpg?aki_policy=small</td>\n",
       "      <td>90802</td>\n",
       "      <td>1.0</td>\n",
       "      <td>2.0</td>\n",
       "    </tr>\n",
       "  </tbody>\n",
       "</table>\n",
       "<p>5 rows × 29 columns</p>\n",
       "</div>"
      ],
      "text/plain": [
       "             id  log_price property_type        room_type  \\\n",
       "74106  14549287   4.605170     Apartment     Private room   \n",
       "74107  13281809   5.043425     Apartment  Entire home/apt   \n",
       "74108  18688039   5.220356     Apartment  Entire home/apt   \n",
       "74109  17045948   5.273000     Apartment  Entire home/apt   \n",
       "74110   3534845   4.852030          Boat  Entire home/apt   \n",
       "\n",
       "                                                                                                                                                                                                                                                                                                                                                                                                                amenities  \\\n",
       "74106                                                                                                                                                                                                                                                                                                                                                                                                                  {}   \n",
       "74107                                                                                                                                                                                    {TV,\"Cable TV\",Internet,\"Wireless Internet\",Kitchen,\"Free parking on premises\",Heating,\"Family/kid friendly\",Washer,Dryer,\"Smoke detector\",Essentials,Shampoo,Hangers,\"Hair dryer\",\"translation missing: en.hosting_amenity_50\"}   \n",
       "74108  {TV,Internet,\"Wireless Internet\",\"Air conditioning\",Kitchen,Gym,Elevator,\"Buzzer/wireless intercom\",Heating,\"Family/kid friendly\",Washer,Dryer,\"Smoke detector\",\"Carbon monoxide detector\",\"First aid kit\",Essentials,Shampoo,Hangers,\"Hair dryer\",Iron,\"Laptop friendly workspace\",\"Hot water\",\"Bed linens\",Microwave,\"Coffee maker\",Refrigerator,Dishwasher,\"Dishes and silverware\",\"Cooking basics\",Oven,Stove}   \n",
       "74109                                                                                                                                                                                                                       {TV,\"Wireless Internet\",\"Air conditioning\",Kitchen,Heating,Washer,Dryer,\"Smoke detector\",\"Carbon monoxide detector\",Essentials,Shampoo,Hangers,\"Hair dryer\",Iron,\"Laptop friendly workspace\"}   \n",
       "74110                                                                                                                             {TV,Internet,\"Wireless Internet\",Kitchen,\"Free parking on premises\",Heating,\"Family/kid friendly\",\"Smoke detector\",\"Carbon monoxide detector\",\"First aid kit\",\"Safety card\",\"Fire extinguisher\",Essentials,Shampoo,\"24-hour check-in\",Hangers,\"Hair dryer\",\"Laptop friendly workspace\"}   \n",
       "\n",
       "       accommodates  bathrooms  bed_type cancellation_policy  cleaning_fee  \\\n",
       "74106             1        1.0  Real Bed            flexible         False   \n",
       "74107             4        2.0  Real Bed            moderate          True   \n",
       "74108             5        1.0  Real Bed            moderate          True   \n",
       "74109             2        1.0  Real Bed              strict          True   \n",
       "74110             4        1.0  Real Bed            moderate         False   \n",
       "\n",
       "       ...   latitude   longitude                                        name  \\\n",
       "74106  ...  40.709025  -73.939405                           one room bushwick   \n",
       "74107  ...  33.871549 -118.396053                Spacious Hermosa 2 BR on PCH   \n",
       "74108  ...  40.706749  -73.942377  Modern 2 Bedroom Apartment in Williamsburg   \n",
       "74109  ...  40.738535  -74.000157        Designer's Apartment in HEART of NYC   \n",
       "74110  ...  33.761096 -118.192409              Cozy Boat at Shoreline Village   \n",
       "\n",
       "       neighbourhood number_of_reviews review_scores_rating  \\\n",
       "74106   Williamsburg                 0                  NaN   \n",
       "74107  Hermosa Beach                16                 93.0   \n",
       "74108   Williamsburg                43                 94.0   \n",
       "74109   West Village                 0                  NaN   \n",
       "74110     Long Beach               205                 96.0   \n",
       "\n",
       "                                                                                       thumbnail_url  \\\n",
       "74106            https://a0.muscache.com/im/pictures/55162426/6016bc16_original.jpg?aki_policy=small   \n",
       "74107  https://a0.muscache.com/im/pictures/2b86560b-a94e-427c-bafd-7971a3edca9b.jpg?aki_policy=small   \n",
       "74108  https://a0.muscache.com/im/pictures/7fbe448c-5293-4a22-a83e-54c8bc1bbf0d.jpg?aki_policy=small   \n",
       "74109  https://a0.muscache.com/im/pictures/b3971b63-06d9-4417-86ca-e6b40c22edca.jpg?aki_policy=small   \n",
       "74110            https://a0.muscache.com/im/pictures/22968537/da0156bc_original.jpg?aki_policy=small   \n",
       "\n",
       "       zipcode bedrooms  beds  \n",
       "74106  11206.0      1.0   1.0  \n",
       "74107    90254      2.0   4.0  \n",
       "74108  11206.0      2.0   2.0  \n",
       "74109    10011      0.0   2.0  \n",
       "74110    90802      1.0   2.0  \n",
       "\n",
       "[5 rows x 29 columns]"
      ]
     },
     "execution_count": 4,
     "metadata": {},
     "output_type": "execute_result"
    }
   ],
   "source": [
    "# Previewing the last five rows of the data set\n",
    "df.tail()"
   ]
  },
  {
   "cell_type": "code",
   "execution_count": 5,
   "id": "0f99cdbe-0030-49bd-9c59-73c7293e27ce",
   "metadata": {},
   "outputs": [
    {
     "data": {
      "text/plain": [
       "(74111, 29)"
      ]
     },
     "execution_count": 5,
     "metadata": {},
     "output_type": "execute_result"
    }
   ],
   "source": [
    "df.shape"
   ]
  },
  {
   "cell_type": "code",
   "execution_count": 6,
   "id": "7a4f3d61-af53-4ba1-afae-a7f326bf3aa4",
   "metadata": {},
   "outputs": [
    {
     "name": "stdout",
     "output_type": "stream",
     "text": [
      "The dataset has 74111 rows and 29 columns\n"
     ]
    }
   ],
   "source": [
    "# Getting the shape of the dataset\n",
    "print(f\"The dataset has {df.shape[0]} rows and {df.shape[1]} columns\")"
   ]
  },
  {
   "cell_type": "markdown",
   "id": "71bb3cc6-0ee1-4554-b5f2-0abcf2ebeacc",
   "metadata": {},
   "source": [
    "### Preliminary Data Inspection\n"
   ]
  },
  {
   "cell_type": "code",
   "execution_count": 8,
   "id": "fdd7ee87-58ba-4ef6-b82c-9db82c08696e",
   "metadata": {},
   "outputs": [
    {
     "name": "stdout",
     "output_type": "stream",
     "text": [
      "<class 'pandas.core.frame.DataFrame'>\n",
      "RangeIndex: 74111 entries, 0 to 74110\n",
      "Data columns (total 29 columns):\n",
      " #   Column                  Non-Null Count  Dtype  \n",
      "---  ------                  --------------  -----  \n",
      " 0   id                      74111 non-null  int64  \n",
      " 1   log_price               74111 non-null  float64\n",
      " 2   property_type           74111 non-null  object \n",
      " 3   room_type               74111 non-null  object \n",
      " 4   amenities               74111 non-null  object \n",
      " 5   accommodates            74111 non-null  int64  \n",
      " 6   bathrooms               73911 non-null  float64\n",
      " 7   bed_type                74111 non-null  object \n",
      " 8   cancellation_policy     74111 non-null  object \n",
      " 9   cleaning_fee            74111 non-null  bool   \n",
      " 10  city                    74111 non-null  object \n",
      " 11  description             74111 non-null  object \n",
      " 12  first_review            58247 non-null  object \n",
      " 13  host_has_profile_pic    73923 non-null  object \n",
      " 14  host_identity_verified  73923 non-null  object \n",
      " 15  host_response_rate      55812 non-null  object \n",
      " 16  host_since              73923 non-null  object \n",
      " 17  instant_bookable        74111 non-null  object \n",
      " 18  last_review             58284 non-null  object \n",
      " 19  latitude                74111 non-null  float64\n",
      " 20  longitude               74111 non-null  float64\n",
      " 21  name                    74111 non-null  object \n",
      " 22  neighbourhood           67239 non-null  object \n",
      " 23  number_of_reviews       74111 non-null  int64  \n",
      " 24  review_scores_rating    57389 non-null  float64\n",
      " 25  thumbnail_url           65895 non-null  object \n",
      " 26  zipcode                 73145 non-null  object \n",
      " 27  bedrooms                74020 non-null  float64\n",
      " 28  beds                    73980 non-null  float64\n",
      "dtypes: bool(1), float64(7), int64(3), object(18)\n",
      "memory usage: 15.9+ MB\n"
     ]
    }
   ],
   "source": [
    "# Getting the 'data' about the data\n",
    "df.info()"
   ]
  },
  {
   "cell_type": "code",
   "execution_count": 9,
   "id": "57da449c-a42c-406b-90dd-de4ac9fa789d",
   "metadata": {},
   "outputs": [
    {
     "data": {
      "text/plain": [
       "city\n",
       "NYC        32349\n",
       "LA         22453\n",
       "SF          6434\n",
       "DC          5688\n",
       "Chicago     3719\n",
       "Boston      3468\n",
       "Name: count, dtype: int64"
      ]
     },
     "execution_count": 9,
     "metadata": {},
     "output_type": "execute_result"
    }
   ],
   "source": [
    "df.city.value_counts()"
   ]
  },
  {
   "cell_type": "code",
   "execution_count": 10,
   "id": "cafc9eba-9d6f-433f-92a5-bdfe33e69967",
   "metadata": {},
   "outputs": [
    {
     "data": {
      "text/plain": [
       "object     18\n",
       "float64     7\n",
       "int64       3\n",
       "bool        1\n",
       "Name: count, dtype: int64"
      ]
     },
     "execution_count": 10,
     "metadata": {},
     "output_type": "execute_result"
    }
   ],
   "source": [
    "# Checking the number of data types \n",
    "df.dtypes.value_counts()"
   ]
  },
  {
   "cell_type": "code",
   "execution_count": 11,
   "id": "85073ad5-fe77-479d-ab98-3cb8c9705818",
   "metadata": {},
   "outputs": [
    {
     "data": {
      "text/plain": [
       "id                          int64\n",
       "log_price                 float64\n",
       "property_type              object\n",
       "room_type                  object\n",
       "amenities                  object\n",
       "accommodates                int64\n",
       "bathrooms                 float64\n",
       "bed_type                   object\n",
       "cancellation_policy        object\n",
       "cleaning_fee                 bool\n",
       "city                       object\n",
       "description                object\n",
       "first_review               object\n",
       "host_has_profile_pic       object\n",
       "host_identity_verified     object\n",
       "host_response_rate         object\n",
       "host_since                 object\n",
       "instant_bookable           object\n",
       "last_review                object\n",
       "latitude                  float64\n",
       "longitude                 float64\n",
       "name                       object\n",
       "neighbourhood              object\n",
       "number_of_reviews           int64\n",
       "review_scores_rating      float64\n",
       "thumbnail_url              object\n",
       "zipcode                    object\n",
       "bedrooms                  float64\n",
       "beds                      float64\n",
       "dtype: object"
      ]
     },
     "execution_count": 11,
     "metadata": {},
     "output_type": "execute_result"
    }
   ],
   "source": [
    "# Checking the data types of the columns\n",
    "df.dtypes"
   ]
  },
  {
   "cell_type": "code",
   "execution_count": 12,
   "id": "2069fad2-7672-4116-b236-a65b6b877a9f",
   "metadata": {},
   "outputs": [
    {
     "data": {
      "text/html": [
       "<div>\n",
       "<style scoped>\n",
       "    .dataframe tbody tr th:only-of-type {\n",
       "        vertical-align: middle;\n",
       "    }\n",
       "\n",
       "    .dataframe tbody tr th {\n",
       "        vertical-align: top;\n",
       "    }\n",
       "\n",
       "    .dataframe thead th {\n",
       "        text-align: right;\n",
       "    }\n",
       "</style>\n",
       "<table border=\"1\" class=\"dataframe\">\n",
       "  <thead>\n",
       "    <tr style=\"text-align: right;\">\n",
       "      <th></th>\n",
       "      <th>count</th>\n",
       "      <th>unique</th>\n",
       "      <th>top</th>\n",
       "      <th>freq</th>\n",
       "      <th>mean</th>\n",
       "      <th>std</th>\n",
       "      <th>min</th>\n",
       "      <th>25%</th>\n",
       "      <th>50%</th>\n",
       "      <th>75%</th>\n",
       "      <th>max</th>\n",
       "    </tr>\n",
       "  </thead>\n",
       "  <tbody>\n",
       "    <tr>\n",
       "      <th>id</th>\n",
       "      <td>74111.0</td>\n",
       "      <td>NaN</td>\n",
       "      <td>NaN</td>\n",
       "      <td>NaN</td>\n",
       "      <td>11266617.102468</td>\n",
       "      <td>6081734.886894</td>\n",
       "      <td>344.0</td>\n",
       "      <td>6261964.5</td>\n",
       "      <td>12254147.0</td>\n",
       "      <td>16402260.5</td>\n",
       "      <td>21230903.0</td>\n",
       "    </tr>\n",
       "    <tr>\n",
       "      <th>log_price</th>\n",
       "      <td>74111.0</td>\n",
       "      <td>NaN</td>\n",
       "      <td>NaN</td>\n",
       "      <td>NaN</td>\n",
       "      <td>4.782069</td>\n",
       "      <td>0.717394</td>\n",
       "      <td>0.0</td>\n",
       "      <td>4.317488</td>\n",
       "      <td>4.70953</td>\n",
       "      <td>5.220356</td>\n",
       "      <td>7.600402</td>\n",
       "    </tr>\n",
       "    <tr>\n",
       "      <th>property_type</th>\n",
       "      <td>74111</td>\n",
       "      <td>35</td>\n",
       "      <td>Apartment</td>\n",
       "      <td>49003</td>\n",
       "      <td>NaN</td>\n",
       "      <td>NaN</td>\n",
       "      <td>NaN</td>\n",
       "      <td>NaN</td>\n",
       "      <td>NaN</td>\n",
       "      <td>NaN</td>\n",
       "      <td>NaN</td>\n",
       "    </tr>\n",
       "    <tr>\n",
       "      <th>room_type</th>\n",
       "      <td>74111</td>\n",
       "      <td>3</td>\n",
       "      <td>Entire home/apt</td>\n",
       "      <td>41310</td>\n",
       "      <td>NaN</td>\n",
       "      <td>NaN</td>\n",
       "      <td>NaN</td>\n",
       "      <td>NaN</td>\n",
       "      <td>NaN</td>\n",
       "      <td>NaN</td>\n",
       "      <td>NaN</td>\n",
       "    </tr>\n",
       "    <tr>\n",
       "      <th>amenities</th>\n",
       "      <td>74111</td>\n",
       "      <td>67122</td>\n",
       "      <td>{}</td>\n",
       "      <td>586</td>\n",
       "      <td>NaN</td>\n",
       "      <td>NaN</td>\n",
       "      <td>NaN</td>\n",
       "      <td>NaN</td>\n",
       "      <td>NaN</td>\n",
       "      <td>NaN</td>\n",
       "      <td>NaN</td>\n",
       "    </tr>\n",
       "    <tr>\n",
       "      <th>accommodates</th>\n",
       "      <td>74111.0</td>\n",
       "      <td>NaN</td>\n",
       "      <td>NaN</td>\n",
       "      <td>NaN</td>\n",
       "      <td>3.155146</td>\n",
       "      <td>2.153589</td>\n",
       "      <td>1.0</td>\n",
       "      <td>2.0</td>\n",
       "      <td>2.0</td>\n",
       "      <td>4.0</td>\n",
       "      <td>16.0</td>\n",
       "    </tr>\n",
       "    <tr>\n",
       "      <th>bathrooms</th>\n",
       "      <td>73911.0</td>\n",
       "      <td>NaN</td>\n",
       "      <td>NaN</td>\n",
       "      <td>NaN</td>\n",
       "      <td>1.235263</td>\n",
       "      <td>0.582044</td>\n",
       "      <td>0.0</td>\n",
       "      <td>1.0</td>\n",
       "      <td>1.0</td>\n",
       "      <td>1.0</td>\n",
       "      <td>8.0</td>\n",
       "    </tr>\n",
       "    <tr>\n",
       "      <th>bed_type</th>\n",
       "      <td>74111</td>\n",
       "      <td>5</td>\n",
       "      <td>Real Bed</td>\n",
       "      <td>72028</td>\n",
       "      <td>NaN</td>\n",
       "      <td>NaN</td>\n",
       "      <td>NaN</td>\n",
       "      <td>NaN</td>\n",
       "      <td>NaN</td>\n",
       "      <td>NaN</td>\n",
       "      <td>NaN</td>\n",
       "    </tr>\n",
       "    <tr>\n",
       "      <th>cancellation_policy</th>\n",
       "      <td>74111</td>\n",
       "      <td>5</td>\n",
       "      <td>strict</td>\n",
       "      <td>32374</td>\n",
       "      <td>NaN</td>\n",
       "      <td>NaN</td>\n",
       "      <td>NaN</td>\n",
       "      <td>NaN</td>\n",
       "      <td>NaN</td>\n",
       "      <td>NaN</td>\n",
       "      <td>NaN</td>\n",
       "    </tr>\n",
       "    <tr>\n",
       "      <th>cleaning_fee</th>\n",
       "      <td>74111</td>\n",
       "      <td>2</td>\n",
       "      <td>True</td>\n",
       "      <td>54403</td>\n",
       "      <td>NaN</td>\n",
       "      <td>NaN</td>\n",
       "      <td>NaN</td>\n",
       "      <td>NaN</td>\n",
       "      <td>NaN</td>\n",
       "      <td>NaN</td>\n",
       "      <td>NaN</td>\n",
       "    </tr>\n",
       "    <tr>\n",
       "      <th>city</th>\n",
       "      <td>74111</td>\n",
       "      <td>6</td>\n",
       "      <td>NYC</td>\n",
       "      <td>32349</td>\n",
       "      <td>NaN</td>\n",
       "      <td>NaN</td>\n",
       "      <td>NaN</td>\n",
       "      <td>NaN</td>\n",
       "      <td>NaN</td>\n",
       "      <td>NaN</td>\n",
       "      <td>NaN</td>\n",
       "    </tr>\n",
       "    <tr>\n",
       "      <th>description</th>\n",
       "      <td>74111</td>\n",
       "      <td>73479</td>\n",
       "      <td>Hello, I've been running guest house for Koreans visiting U.S. for 3years, and recently decided to run this place for other travelers also. There are 10 room in the house. They are mostly dormitory rooms and couple of couple room and family room. This places are our women's dormitory in third floor. There are three rooms, but no doors. It is basically open space. There are 2 beds in two rooms and 4 in one room. I do not have closet in this room but there are hangers and mini shelves. My travelers usually put their baggage on the floor. There is one full bathroom only for women in 2nd floor, which you will be sharing with other women guests. Right next that bathroom, there is unisex half bathroom. All bathrooms have hair dryers. You cannot use kitchen, but you can use refrigerator.  I offer breakfast every morning from 7-10 am. Bread, cereal, fruits, coffee, milk and juice will be served. You can eat take-out food in the kitchen, but please wash dishes that you used and put trash in the</td>\n",
       "      <td>8</td>\n",
       "      <td>NaN</td>\n",
       "      <td>NaN</td>\n",
       "      <td>NaN</td>\n",
       "      <td>NaN</td>\n",
       "      <td>NaN</td>\n",
       "      <td>NaN</td>\n",
       "      <td>NaN</td>\n",
       "    </tr>\n",
       "    <tr>\n",
       "      <th>first_review</th>\n",
       "      <td>58247</td>\n",
       "      <td>2554</td>\n",
       "      <td>2017-01-01</td>\n",
       "      <td>293</td>\n",
       "      <td>NaN</td>\n",
       "      <td>NaN</td>\n",
       "      <td>NaN</td>\n",
       "      <td>NaN</td>\n",
       "      <td>NaN</td>\n",
       "      <td>NaN</td>\n",
       "      <td>NaN</td>\n",
       "    </tr>\n",
       "    <tr>\n",
       "      <th>host_has_profile_pic</th>\n",
       "      <td>73923</td>\n",
       "      <td>2</td>\n",
       "      <td>t</td>\n",
       "      <td>73697</td>\n",
       "      <td>NaN</td>\n",
       "      <td>NaN</td>\n",
       "      <td>NaN</td>\n",
       "      <td>NaN</td>\n",
       "      <td>NaN</td>\n",
       "      <td>NaN</td>\n",
       "      <td>NaN</td>\n",
       "    </tr>\n",
       "    <tr>\n",
       "      <th>host_identity_verified</th>\n",
       "      <td>73923</td>\n",
       "      <td>2</td>\n",
       "      <td>t</td>\n",
       "      <td>49748</td>\n",
       "      <td>NaN</td>\n",
       "      <td>NaN</td>\n",
       "      <td>NaN</td>\n",
       "      <td>NaN</td>\n",
       "      <td>NaN</td>\n",
       "      <td>NaN</td>\n",
       "      <td>NaN</td>\n",
       "    </tr>\n",
       "    <tr>\n",
       "      <th>host_response_rate</th>\n",
       "      <td>55812</td>\n",
       "      <td>80</td>\n",
       "      <td>100%</td>\n",
       "      <td>43254</td>\n",
       "      <td>NaN</td>\n",
       "      <td>NaN</td>\n",
       "      <td>NaN</td>\n",
       "      <td>NaN</td>\n",
       "      <td>NaN</td>\n",
       "      <td>NaN</td>\n",
       "      <td>NaN</td>\n",
       "    </tr>\n",
       "    <tr>\n",
       "      <th>host_since</th>\n",
       "      <td>73923</td>\n",
       "      <td>3087</td>\n",
       "      <td>2015-03-30</td>\n",
       "      <td>246</td>\n",
       "      <td>NaN</td>\n",
       "      <td>NaN</td>\n",
       "      <td>NaN</td>\n",
       "      <td>NaN</td>\n",
       "      <td>NaN</td>\n",
       "      <td>NaN</td>\n",
       "      <td>NaN</td>\n",
       "    </tr>\n",
       "    <tr>\n",
       "      <th>instant_bookable</th>\n",
       "      <td>74111</td>\n",
       "      <td>2</td>\n",
       "      <td>f</td>\n",
       "      <td>54660</td>\n",
       "      <td>NaN</td>\n",
       "      <td>NaN</td>\n",
       "      <td>NaN</td>\n",
       "      <td>NaN</td>\n",
       "      <td>NaN</td>\n",
       "      <td>NaN</td>\n",
       "      <td>NaN</td>\n",
       "    </tr>\n",
       "    <tr>\n",
       "      <th>last_review</th>\n",
       "      <td>58284</td>\n",
       "      <td>1371</td>\n",
       "      <td>2017-04-30</td>\n",
       "      <td>1344</td>\n",
       "      <td>NaN</td>\n",
       "      <td>NaN</td>\n",
       "      <td>NaN</td>\n",
       "      <td>NaN</td>\n",
       "      <td>NaN</td>\n",
       "      <td>NaN</td>\n",
       "      <td>NaN</td>\n",
       "    </tr>\n",
       "    <tr>\n",
       "      <th>latitude</th>\n",
       "      <td>74111.0</td>\n",
       "      <td>NaN</td>\n",
       "      <td>NaN</td>\n",
       "      <td>NaN</td>\n",
       "      <td>38.445958</td>\n",
       "      <td>3.080167</td>\n",
       "      <td>33.338905</td>\n",
       "      <td>34.127908</td>\n",
       "      <td>40.662138</td>\n",
       "      <td>40.746096</td>\n",
       "      <td>42.390437</td>\n",
       "    </tr>\n",
       "    <tr>\n",
       "      <th>longitude</th>\n",
       "      <td>74111.0</td>\n",
       "      <td>NaN</td>\n",
       "      <td>NaN</td>\n",
       "      <td>NaN</td>\n",
       "      <td>-92.397525</td>\n",
       "      <td>21.705322</td>\n",
       "      <td>-122.5115</td>\n",
       "      <td>-118.342374</td>\n",
       "      <td>-76.996965</td>\n",
       "      <td>-73.95466</td>\n",
       "      <td>-70.985047</td>\n",
       "    </tr>\n",
       "    <tr>\n",
       "      <th>name</th>\n",
       "      <td>74111</td>\n",
       "      <td>73359</td>\n",
       "      <td>Bunk bed in the Treat Street Clubhouse</td>\n",
       "      <td>8</td>\n",
       "      <td>NaN</td>\n",
       "      <td>NaN</td>\n",
       "      <td>NaN</td>\n",
       "      <td>NaN</td>\n",
       "      <td>NaN</td>\n",
       "      <td>NaN</td>\n",
       "      <td>NaN</td>\n",
       "    </tr>\n",
       "    <tr>\n",
       "      <th>neighbourhood</th>\n",
       "      <td>67239</td>\n",
       "      <td>619</td>\n",
       "      <td>Williamsburg</td>\n",
       "      <td>2862</td>\n",
       "      <td>NaN</td>\n",
       "      <td>NaN</td>\n",
       "      <td>NaN</td>\n",
       "      <td>NaN</td>\n",
       "      <td>NaN</td>\n",
       "      <td>NaN</td>\n",
       "      <td>NaN</td>\n",
       "    </tr>\n",
       "    <tr>\n",
       "      <th>number_of_reviews</th>\n",
       "      <td>74111.0</td>\n",
       "      <td>NaN</td>\n",
       "      <td>NaN</td>\n",
       "      <td>NaN</td>\n",
       "      <td>20.900568</td>\n",
       "      <td>37.828641</td>\n",
       "      <td>0.0</td>\n",
       "      <td>1.0</td>\n",
       "      <td>6.0</td>\n",
       "      <td>23.0</td>\n",
       "      <td>605.0</td>\n",
       "    </tr>\n",
       "    <tr>\n",
       "      <th>review_scores_rating</th>\n",
       "      <td>57389.0</td>\n",
       "      <td>NaN</td>\n",
       "      <td>NaN</td>\n",
       "      <td>NaN</td>\n",
       "      <td>94.067365</td>\n",
       "      <td>7.836556</td>\n",
       "      <td>20.0</td>\n",
       "      <td>92.0</td>\n",
       "      <td>96.0</td>\n",
       "      <td>100.0</td>\n",
       "      <td>100.0</td>\n",
       "    </tr>\n",
       "    <tr>\n",
       "      <th>thumbnail_url</th>\n",
       "      <td>65895</td>\n",
       "      <td>65883</td>\n",
       "      <td>https://a0.muscache.com/im/pictures/70087089/bc66229a_original.jpg?aki_policy=small</td>\n",
       "      <td>3</td>\n",
       "      <td>NaN</td>\n",
       "      <td>NaN</td>\n",
       "      <td>NaN</td>\n",
       "      <td>NaN</td>\n",
       "      <td>NaN</td>\n",
       "      <td>NaN</td>\n",
       "      <td>NaN</td>\n",
       "    </tr>\n",
       "    <tr>\n",
       "      <th>zipcode</th>\n",
       "      <td>73145</td>\n",
       "      <td>769</td>\n",
       "      <td>11211.0</td>\n",
       "      <td>1368</td>\n",
       "      <td>NaN</td>\n",
       "      <td>NaN</td>\n",
       "      <td>NaN</td>\n",
       "      <td>NaN</td>\n",
       "      <td>NaN</td>\n",
       "      <td>NaN</td>\n",
       "      <td>NaN</td>\n",
       "    </tr>\n",
       "    <tr>\n",
       "      <th>bedrooms</th>\n",
       "      <td>74020.0</td>\n",
       "      <td>NaN</td>\n",
       "      <td>NaN</td>\n",
       "      <td>NaN</td>\n",
       "      <td>1.265793</td>\n",
       "      <td>0.852143</td>\n",
       "      <td>0.0</td>\n",
       "      <td>1.0</td>\n",
       "      <td>1.0</td>\n",
       "      <td>1.0</td>\n",
       "      <td>10.0</td>\n",
       "    </tr>\n",
       "    <tr>\n",
       "      <th>beds</th>\n",
       "      <td>73980.0</td>\n",
       "      <td>NaN</td>\n",
       "      <td>NaN</td>\n",
       "      <td>NaN</td>\n",
       "      <td>1.710868</td>\n",
       "      <td>1.254142</td>\n",
       "      <td>0.0</td>\n",
       "      <td>1.0</td>\n",
       "      <td>1.0</td>\n",
       "      <td>2.0</td>\n",
       "      <td>18.0</td>\n",
       "    </tr>\n",
       "  </tbody>\n",
       "</table>\n",
       "</div>"
      ],
      "text/plain": [
       "                          count unique  \\\n",
       "id                      74111.0    NaN   \n",
       "log_price               74111.0    NaN   \n",
       "property_type             74111     35   \n",
       "room_type                 74111      3   \n",
       "amenities                 74111  67122   \n",
       "accommodates            74111.0    NaN   \n",
       "bathrooms               73911.0    NaN   \n",
       "bed_type                  74111      5   \n",
       "cancellation_policy       74111      5   \n",
       "cleaning_fee              74111      2   \n",
       "city                      74111      6   \n",
       "description               74111  73479   \n",
       "first_review              58247   2554   \n",
       "host_has_profile_pic      73923      2   \n",
       "host_identity_verified    73923      2   \n",
       "host_response_rate        55812     80   \n",
       "host_since                73923   3087   \n",
       "instant_bookable          74111      2   \n",
       "last_review               58284   1371   \n",
       "latitude                74111.0    NaN   \n",
       "longitude               74111.0    NaN   \n",
       "name                      74111  73359   \n",
       "neighbourhood             67239    619   \n",
       "number_of_reviews       74111.0    NaN   \n",
       "review_scores_rating    57389.0    NaN   \n",
       "thumbnail_url             65895  65883   \n",
       "zipcode                   73145    769   \n",
       "bedrooms                74020.0    NaN   \n",
       "beds                    73980.0    NaN   \n",
       "\n",
       "                                                                                                                                                                                                                                                                                                                                                                                                                                                                                                                                                                                                                                                                                                                                                                                                                                                                                                                                                                                                                                                             top  \\\n",
       "id                                                                                                                                                                                                                                                                                                                                                                                                                                                                                                                                                                                                                                                                                                                                                                                                                                                                                                                                                                                                                                                           NaN   \n",
       "log_price                                                                                                                                                                                                                                                                                                                                                                                                                                                                                                                                                                                                                                                                                                                                                                                                                                                                                                                                                                                                                                                    NaN   \n",
       "property_type                                                                                                                                                                                                                                                                                                                                                                                                                                                                                                                                                                                                                                                                                                                                                                                                                                                                                                                                                                                                                                          Apartment   \n",
       "room_type                                                                                                                                                                                                                                                                                                                                                                                                                                                                                                                                                                                                                                                                                                                                                                                                                                                                                                                                                                                                                                        Entire home/apt   \n",
       "amenities                                                                                                                                                                                                                                                                                                                                                                                                                                                                                                                                                                                                                                                                                                                                                                                                                                                                                                                                                                                                                                                     {}   \n",
       "accommodates                                                                                                                                                                                                                                                                                                                                                                                                                                                                                                                                                                                                                                                                                                                                                                                                                                                                                                                                                                                                                                                 NaN   \n",
       "bathrooms                                                                                                                                                                                                                                                                                                                                                                                                                                                                                                                                                                                                                                                                                                                                                                                                                                                                                                                                                                                                                                                    NaN   \n",
       "bed_type                                                                                                                                                                                                                                                                                                                                                                                                                                                                                                                                                                                                                                                                                                                                                                                                                                                                                                                                                                                                                                                Real Bed   \n",
       "cancellation_policy                                                                                                                                                                                                                                                                                                                                                                                                                                                                                                                                                                                                                                                                                                                                                                                                                                                                                                                                                                                                                                       strict   \n",
       "cleaning_fee                                                                                                                                                                                                                                                                                                                                                                                                                                                                                                                                                                                                                                                                                                                                                                                                                                                                                                                                                                                                                                                True   \n",
       "city                                                                                                                                                                                                                                                                                                                                                                                                                                                                                                                                                                                                                                                                                                                                                                                                                                                                                                                                                                                                                                                         NYC   \n",
       "description             Hello, I've been running guest house for Koreans visiting U.S. for 3years, and recently decided to run this place for other travelers also. There are 10 room in the house. They are mostly dormitory rooms and couple of couple room and family room. This places are our women's dormitory in third floor. There are three rooms, but no doors. It is basically open space. There are 2 beds in two rooms and 4 in one room. I do not have closet in this room but there are hangers and mini shelves. My travelers usually put their baggage on the floor. There is one full bathroom only for women in 2nd floor, which you will be sharing with other women guests. Right next that bathroom, there is unisex half bathroom. All bathrooms have hair dryers. You cannot use kitchen, but you can use refrigerator.  I offer breakfast every morning from 7-10 am. Bread, cereal, fruits, coffee, milk and juice will be served. You can eat take-out food in the kitchen, but please wash dishes that you used and put trash in the   \n",
       "first_review                                                                                                                                                                                                                                                                                                                                                                                                                                                                                                                                                                                                                                                                                                                                                                                                                                                                                                                                                                                                                                          2017-01-01   \n",
       "host_has_profile_pic                                                                                                                                                                                                                                                                                                                                                                                                                                                                                                                                                                                                                                                                                                                                                                                                                                                                                                                                                                                                                                           t   \n",
       "host_identity_verified                                                                                                                                                                                                                                                                                                                                                                                                                                                                                                                                                                                                                                                                                                                                                                                                                                                                                                                                                                                                                                         t   \n",
       "host_response_rate                                                                                                                                                                                                                                                                                                                                                                                                                                                                                                                                                                                                                                                                                                                                                                                                                                                                                                                                                                                                                                          100%   \n",
       "host_since                                                                                                                                                                                                                                                                                                                                                                                                                                                                                                                                                                                                                                                                                                                                                                                                                                                                                                                                                                                                                                            2015-03-30   \n",
       "instant_bookable                                                                                                                                                                                                                                                                                                                                                                                                                                                                                                                                                                                                                                                                                                                                                                                                                                                                                                                                                                                                                                               f   \n",
       "last_review                                                                                                                                                                                                                                                                                                                                                                                                                                                                                                                                                                                                                                                                                                                                                                                                                                                                                                                                                                                                                                           2017-04-30   \n",
       "latitude                                                                                                                                                                                                                                                                                                                                                                                                                                                                                                                                                                                                                                                                                                                                                                                                                                                                                                                                                                                                                                                     NaN   \n",
       "longitude                                                                                                                                                                                                                                                                                                                                                                                                                                                                                                                                                                                                                                                                                                                                                                                                                                                                                                                                                                                                                                                    NaN   \n",
       "name                                                                                                                                                                                                                                                                                                                                                                                                                                                                                                                                                                                                                                                                                                                                                                                                                                                                                                                                                                                                                      Bunk bed in the Treat Street Clubhouse   \n",
       "neighbourhood                                                                                                                                                                                                                                                                                                                                                                                                                                                                                                                                                                                                                                                                                                                                                                                                                                                                                                                                                                                                                                       Williamsburg   \n",
       "number_of_reviews                                                                                                                                                                                                                                                                                                                                                                                                                                                                                                                                                                                                                                                                                                                                                                                                                                                                                                                                                                                                                                            NaN   \n",
       "review_scores_rating                                                                                                                                                                                                                                                                                                                                                                                                                                                                                                                                                                                                                                                                                                                                                                                                                                                                                                                                                                                                                                         NaN   \n",
       "thumbnail_url                                                                                                                                                                                                                                                                                                                                                                                                                                                                                                                                                                                                                                                                                                                                                                                                                                                                                                                                                                https://a0.muscache.com/im/pictures/70087089/bc66229a_original.jpg?aki_policy=small   \n",
       "zipcode                                                                                                                                                                                                                                                                                                                                                                                                                                                                                                                                                                                                                                                                                                                                                                                                                                                                                                                                                                                                                                                  11211.0   \n",
       "bedrooms                                                                                                                                                                                                                                                                                                                                                                                                                                                                                                                                                                                                                                                                                                                                                                                                                                                                                                                                                                                                                                                     NaN   \n",
       "beds                                                                                                                                                                                                                                                                                                                                                                                                                                                                                                                                                                                                                                                                                                                                                                                                                                                                                                                                                                                                                                                         NaN   \n",
       "\n",
       "                         freq             mean             std        min  \\\n",
       "id                        NaN  11266617.102468  6081734.886894      344.0   \n",
       "log_price                 NaN         4.782069        0.717394        0.0   \n",
       "property_type           49003              NaN             NaN        NaN   \n",
       "room_type               41310              NaN             NaN        NaN   \n",
       "amenities                 586              NaN             NaN        NaN   \n",
       "accommodates              NaN         3.155146        2.153589        1.0   \n",
       "bathrooms                 NaN         1.235263        0.582044        0.0   \n",
       "bed_type                72028              NaN             NaN        NaN   \n",
       "cancellation_policy     32374              NaN             NaN        NaN   \n",
       "cleaning_fee            54403              NaN             NaN        NaN   \n",
       "city                    32349              NaN             NaN        NaN   \n",
       "description                 8              NaN             NaN        NaN   \n",
       "first_review              293              NaN             NaN        NaN   \n",
       "host_has_profile_pic    73697              NaN             NaN        NaN   \n",
       "host_identity_verified  49748              NaN             NaN        NaN   \n",
       "host_response_rate      43254              NaN             NaN        NaN   \n",
       "host_since                246              NaN             NaN        NaN   \n",
       "instant_bookable        54660              NaN             NaN        NaN   \n",
       "last_review              1344              NaN             NaN        NaN   \n",
       "latitude                  NaN        38.445958        3.080167  33.338905   \n",
       "longitude                 NaN       -92.397525       21.705322  -122.5115   \n",
       "name                        8              NaN             NaN        NaN   \n",
       "neighbourhood            2862              NaN             NaN        NaN   \n",
       "number_of_reviews         NaN        20.900568       37.828641        0.0   \n",
       "review_scores_rating      NaN        94.067365        7.836556       20.0   \n",
       "thumbnail_url               3              NaN             NaN        NaN   \n",
       "zipcode                  1368              NaN             NaN        NaN   \n",
       "bedrooms                  NaN         1.265793        0.852143        0.0   \n",
       "beds                      NaN         1.710868        1.254142        0.0   \n",
       "\n",
       "                               25%         50%         75%         max  \n",
       "id                       6261964.5  12254147.0  16402260.5  21230903.0  \n",
       "log_price                 4.317488     4.70953    5.220356    7.600402  \n",
       "property_type                  NaN         NaN         NaN         NaN  \n",
       "room_type                      NaN         NaN         NaN         NaN  \n",
       "amenities                      NaN         NaN         NaN         NaN  \n",
       "accommodates                   2.0         2.0         4.0        16.0  \n",
       "bathrooms                      1.0         1.0         1.0         8.0  \n",
       "bed_type                       NaN         NaN         NaN         NaN  \n",
       "cancellation_policy            NaN         NaN         NaN         NaN  \n",
       "cleaning_fee                   NaN         NaN         NaN         NaN  \n",
       "city                           NaN         NaN         NaN         NaN  \n",
       "description                    NaN         NaN         NaN         NaN  \n",
       "first_review                   NaN         NaN         NaN         NaN  \n",
       "host_has_profile_pic           NaN         NaN         NaN         NaN  \n",
       "host_identity_verified         NaN         NaN         NaN         NaN  \n",
       "host_response_rate             NaN         NaN         NaN         NaN  \n",
       "host_since                     NaN         NaN         NaN         NaN  \n",
       "instant_bookable               NaN         NaN         NaN         NaN  \n",
       "last_review                    NaN         NaN         NaN         NaN  \n",
       "latitude                 34.127908   40.662138   40.746096   42.390437  \n",
       "longitude              -118.342374  -76.996965   -73.95466  -70.985047  \n",
       "name                           NaN         NaN         NaN         NaN  \n",
       "neighbourhood                  NaN         NaN         NaN         NaN  \n",
       "number_of_reviews              1.0         6.0        23.0       605.0  \n",
       "review_scores_rating          92.0        96.0       100.0       100.0  \n",
       "thumbnail_url                  NaN         NaN         NaN         NaN  \n",
       "zipcode                        NaN         NaN         NaN         NaN  \n",
       "bedrooms                       1.0         1.0         1.0        10.0  \n",
       "beds                           1.0         1.0         2.0        18.0  "
      ]
     },
     "execution_count": 12,
     "metadata": {},
     "output_type": "execute_result"
    }
   ],
   "source": [
    "# Obtaining the summary descriptive statistics of the data\n",
    "df.describe(include=\"all\").T"
   ]
  },
  {
   "cell_type": "markdown",
   "id": "76f9efcb-0284-4cd2-9c4f-8d71c86717ef",
   "metadata": {},
   "source": [
    "### OBSERVATIONS\n",
    "`host_since`,`first_review` and `last_review` columns should be of datetime data type.\n",
    "\n",
    "`id` column should be an object.\n",
    "\n",
    "There are 18 categorical columns, 10 numerical and 1 boolean data type in the data set.\n",
    "\n",
    "# DATA CLEANING AND PREPARATION\n",
    "\n",
    "#### Selecting feature for content based recommendation system\n"
   ]
  },
  {
   "cell_type": "code",
   "execution_count": 14,
   "id": "aef66270-6045-414f-a726-69745c0eba09",
   "metadata": {},
   "outputs": [],
   "source": [
    "# Selecting the features used fo creating the recommendation system\n",
    "features = ['id','name','city', 'property_type', 'room_type', 'amenities', 'accommodates',\n",
    "            'bathrooms', 'bed_type', 'bedrooms', 'beds', 'description', 'log_price']\n",
    "df = df[features]"
   ]
  },
  {
   "cell_type": "code",
   "execution_count": 15,
   "id": "e0e550bd-8a62-42d0-93f7-47660d96db5e",
   "metadata": {},
   "outputs": [
    {
     "data": {
      "text/plain": [
       "id                 int64\n",
       "name              object\n",
       "city              object\n",
       "property_type     object\n",
       "room_type         object\n",
       "amenities         object\n",
       "accommodates       int64\n",
       "bathrooms        float64\n",
       "bed_type          object\n",
       "bedrooms         float64\n",
       "beds             float64\n",
       "description       object\n",
       "log_price        float64\n",
       "dtype: object"
      ]
     },
     "execution_count": 15,
     "metadata": {},
     "output_type": "execute_result"
    }
   ],
   "source": [
    "# Checkin the datatype\n",
    "df.dtypes"
   ]
  },
  {
   "cell_type": "code",
   "execution_count": 16,
   "id": "72726cc8-11e7-4582-9f0e-a2ce9d55bcc3",
   "metadata": {},
   "outputs": [
    {
     "name": "stdout",
     "output_type": "stream",
     "text": [
      "The dataset has 74111 rows and 13 columns\n"
     ]
    }
   ],
   "source": [
    "print(f\"The dataset has {df.shape[0]} rows and {df.shape[1]} columns\")"
   ]
  },
  {
   "cell_type": "code",
   "execution_count": 17,
   "id": "43540a72-d26e-49a5-b11b-d77e1e8a2fda",
   "metadata": {},
   "outputs": [],
   "source": [
    "# Converting all object columns to lower case ,removing white spaces and extra spaces\n",
    "df[df.select_dtypes(\"object\").columns] = df.select_dtypes(\"object\").apply(lambda x: x.str.strip().str.lower().str.replace(r'\\s+', ' ', regex=True))"
   ]
  },
  {
   "cell_type": "code",
   "execution_count": 18,
   "id": "87cc6c67-b16e-42d3-b58e-966bed9789b3",
   "metadata": {},
   "outputs": [
    {
     "data": {
      "text/plain": [
       "name\n",
       "east village studio                          9\n",
       "bunk bed in the treat street clubhouse       8\n",
       "home away from home                          8\n",
       "cozy private room                            8\n",
       "location, location, location                 7\n",
       "                                            ..\n",
       "comfy apt in logan circle dc!                1\n",
       "modern | 5br 2ba | 5 min to bos              1\n",
       "cozy gold coast studio, 2 mins to subway!    1\n",
       "a convenient, cozy, and comfortable stay     1\n",
       "cozy boat at shoreline village               1\n",
       "Name: count, Length: 72912, dtype: int64"
      ]
     },
     "execution_count": 18,
     "metadata": {},
     "output_type": "execute_result"
    }
   ],
   "source": [
    "# Getting the values and their count in cleaning fee column\n",
    "df.name.value_counts()"
   ]
  },
  {
   "cell_type": "code",
   "execution_count": 19,
   "id": "b0c79dc8-0d2d-445d-8195-c23f0232de74",
   "metadata": {},
   "outputs": [
    {
     "data": {
      "text/plain": [
       "city\n",
       "nyc        32349\n",
       "la         22453\n",
       "sf          6434\n",
       "dc          5688\n",
       "chicago     3719\n",
       "boston      3468\n",
       "Name: count, dtype: int64"
      ]
     },
     "execution_count": 19,
     "metadata": {},
     "output_type": "execute_result"
    }
   ],
   "source": [
    "# Getting the values and their count in city column\n",
    "df.city.value_counts()"
   ]
  },
  {
   "cell_type": "code",
   "execution_count": 20,
   "id": "4d6112d6-6041-4e36-b28b-1e74ba70c8b0",
   "metadata": {},
   "outputs": [],
   "source": [
    "# converting acronyms in the city column to full word\n",
    "city_mapping = {\"nyc\": \"new york city\", \"la\": \"los angeles\", \"sf\": \"san francisco\",\n",
    "                \"dc\": \"washington, d.c.\", \"chicago\": \"chicago\", \"boston\": \"boston\"}\n",
    "\n",
    "df[\"city\"] = df[\"city\"].map(city_mapping)"
   ]
  },
  {
   "cell_type": "code",
   "execution_count": 21,
   "id": "c4402db6-8032-47f7-a019-5d5319615f0f",
   "metadata": {},
   "outputs": [
    {
     "data": {
      "text/plain": [
       "property_type\n",
       "apartment             49003\n",
       "house                 16511\n",
       "condominium            2658\n",
       "townhouse              1692\n",
       "loft                   1244\n",
       "other                   607\n",
       "guesthouse              498\n",
       "bed & breakfast         462\n",
       "bungalow                366\n",
       "villa                   179\n",
       "dorm                    142\n",
       "guest suite             123\n",
       "camper/rv                94\n",
       "timeshare                77\n",
       "cabin                    72\n",
       "in-law                   71\n",
       "hostel                   70\n",
       "boutique hotel           69\n",
       "boat                     65\n",
       "serviced apartment       21\n",
       "tent                     18\n",
       "castle                   13\n",
       "vacation home            11\n",
       "yurt                      9\n",
       "hut                       8\n",
       "treehouse                 7\n",
       "chalet                    6\n",
       "earth house               4\n",
       "tipi                      3\n",
       "train                     2\n",
       "cave                      2\n",
       "casa particular           1\n",
       "parking space             1\n",
       "lighthouse                1\n",
       "island                    1\n",
       "Name: count, dtype: int64"
      ]
     },
     "execution_count": 21,
     "metadata": {},
     "output_type": "execute_result"
    }
   ],
   "source": [
    "# Getting the values and their count in property type column\n",
    "df.property_type.value_counts()"
   ]
  },
  {
   "cell_type": "code",
   "execution_count": 22,
   "id": "87a0d4f1-8f09-40ea-8ad9-ed6d526da288",
   "metadata": {},
   "outputs": [
    {
     "data": {
      "text/plain": [
       "room_type\n",
       "entire home/apt    41310\n",
       "private room       30638\n",
       "shared room         2163\n",
       "Name: count, dtype: int64"
      ]
     },
     "execution_count": 22,
     "metadata": {},
     "output_type": "execute_result"
    }
   ],
   "source": [
    "# Getting the values and their count in room type column\n",
    "df.room_type.value_counts()"
   ]
  },
  {
   "cell_type": "code",
   "execution_count": 23,
   "id": "5bf09a71-95d6-4feb-90ab-19a293ca02e5",
   "metadata": {},
   "outputs": [
    {
     "data": {
      "text/plain": [
       "accommodates\n",
       "2     31854\n",
       "4     12066\n",
       "1      9434\n",
       "3      7794\n",
       "6      4969\n",
       "5      3444\n",
       "8      1795\n",
       "7       946\n",
       "10      701\n",
       "16      301\n",
       "9       270\n",
       "12      264\n",
       "14      104\n",
       "11       79\n",
       "15       54\n",
       "13       36\n",
       "Name: count, dtype: int64"
      ]
     },
     "execution_count": 23,
     "metadata": {},
     "output_type": "execute_result"
    }
   ],
   "source": [
    "# Getting the values and their count in accommodates column\n",
    "df.accommodates.value_counts()"
   ]
  },
  {
   "cell_type": "code",
   "execution_count": 24,
   "id": "73f6fd93-795e-4674-ad0f-dcbac2cb03c8",
   "metadata": {},
   "outputs": [
    {
     "data": {
      "text/plain": [
       "bed_type\n",
       "real bed         72028\n",
       "futon              753\n",
       "pull-out sofa      585\n",
       "airbed             477\n",
       "couch              268\n",
       "Name: count, dtype: int64"
      ]
     },
     "execution_count": 24,
     "metadata": {},
     "output_type": "execute_result"
    }
   ],
   "source": [
    "# Getting the values and their count in bed type column\n",
    "df.bed_type.value_counts()"
   ]
  },
  {
   "cell_type": "code",
   "execution_count": 25,
   "id": "29a56b48-6c30-4659-9afb-402e305e3476",
   "metadata": {},
   "outputs": [
    {
     "data": {
      "text/plain": [
       "beds\n",
       "1.0     45144\n",
       "2.0     16704\n",
       "3.0      6442\n",
       "4.0      3065\n",
       "5.0      1287\n",
       "6.0       661\n",
       "7.0       216\n",
       "8.0       186\n",
       "10.0       88\n",
       "9.0        72\n",
       "16.0       38\n",
       "12.0       29\n",
       "11.0       23\n",
       "13.0       10\n",
       "15.0        6\n",
       "14.0        4\n",
       "0.0         4\n",
       "18.0        1\n",
       "Name: count, dtype: int64"
      ]
     },
     "execution_count": 25,
     "metadata": {},
     "output_type": "execute_result"
    }
   ],
   "source": [
    "# Getting the values and their count in bed column\n",
    "df.beds.value_counts()"
   ]
  },
  {
   "cell_type": "code",
   "execution_count": 26,
   "id": "158f4256-625f-4a3a-80cf-3bc5b33b9f08",
   "metadata": {},
   "outputs": [
    {
     "data": {
      "text/plain": [
       "Index(['id', 'name', 'city', 'property_type', 'room_type', 'amenities',\n",
       "       'accommodates', 'bathrooms', 'bed_type', 'bedrooms', 'beds',\n",
       "       'description', 'log_price'],\n",
       "      dtype='object')"
      ]
     },
     "execution_count": 26,
     "metadata": {},
     "output_type": "execute_result"
    }
   ],
   "source": [
    "df.columns"
   ]
  },
  {
   "cell_type": "markdown",
   "id": "1f70c741-ed3d-4283-84a8-5b0662b29761",
   "metadata": {},
   "source": [
    "#### Checking for and handling Missing values"
   ]
  },
  {
   "cell_type": "code",
   "execution_count": 28,
   "id": "315f6824-25db-41e4-b818-59edfe8124a6",
   "metadata": {
    "scrolled": true
   },
   "outputs": [
    {
     "data": {
      "text/plain": [
       "bathrooms    200\n",
       "beds         131\n",
       "bedrooms      91\n",
       "dtype: int64"
      ]
     },
     "execution_count": 28,
     "metadata": {},
     "output_type": "execute_result"
    }
   ],
   "source": [
    "# Identifying columns with missing values\n",
    "missing_values = df.isna().sum()\n",
    "\n",
    "# Getting the columns with missing values\n",
    "missing_values = missing_values[missing_values>0]\n",
    "missing_values.sort_values(ascending=False)"
   ]
  },
  {
   "cell_type": "code",
   "execution_count": 29,
   "id": "d4a267b7-6b31-4520-9e9e-98e16e374620",
   "metadata": {},
   "outputs": [
    {
     "name": "stdout",
     "output_type": "stream",
     "text": [
      "bathrooms    0.27%\n",
      "beds         0.18%\n",
      "bedrooms     0.12%\n",
      "dtype: object\n"
     ]
    }
   ],
   "source": [
    "# Checking the percentage of missing values\n",
    "missing_value_percentage = (missing_values/len(df)) * 100\n",
    "print(missing_value_percentage.sort_values(ascending=False).apply(lambda x: f'{x:.2f}%'))"
   ]
  },
  {
   "cell_type": "code",
   "execution_count": 30,
   "id": "875815fb-1192-4003-9fd4-da241cd259ae",
   "metadata": {},
   "outputs": [
    {
     "data": {
      "text/html": [
       "<div>\n",
       "<style scoped>\n",
       "    .dataframe tbody tr th:only-of-type {\n",
       "        vertical-align: middle;\n",
       "    }\n",
       "\n",
       "    .dataframe tbody tr th {\n",
       "        vertical-align: top;\n",
       "    }\n",
       "\n",
       "    .dataframe thead th {\n",
       "        text-align: right;\n",
       "    }\n",
       "</style>\n",
       "<table border=\"1\" class=\"dataframe\">\n",
       "  <thead>\n",
       "    <tr style=\"text-align: right;\">\n",
       "      <th></th>\n",
       "      <th>id</th>\n",
       "      <th>name</th>\n",
       "      <th>city</th>\n",
       "      <th>property_type</th>\n",
       "      <th>room_type</th>\n",
       "      <th>amenities</th>\n",
       "      <th>accommodates</th>\n",
       "      <th>bathrooms</th>\n",
       "      <th>bed_type</th>\n",
       "      <th>bedrooms</th>\n",
       "      <th>beds</th>\n",
       "      <th>description</th>\n",
       "      <th>log_price</th>\n",
       "    </tr>\n",
       "  </thead>\n",
       "  <tbody>\n",
       "    <tr>\n",
       "      <th>40192</th>\n",
       "      <td>17131099</td>\n",
       "      <td>private room wifi kitchen close to everything</td>\n",
       "      <td>los angeles</td>\n",
       "      <td>apartment</td>\n",
       "      <td>private room</td>\n",
       "      <td>{tv,\"wireless internet\",\"air conditioning\",kitchen,\"free parking on premises\",\"smoking allowed\",heating,\"family/kid friendly\",\"suitable for events\",washer,dryer,\"smoke detector\",\"carbon monoxide detector\",\"first aid kit\",essentials,shampoo,hangers,\"hair dryer\",iron,\"laptop friendly workspace\"}</td>\n",
       "      <td>1</td>\n",
       "      <td>1.5</td>\n",
       "      <td>real bed</td>\n",
       "      <td>NaN</td>\n",
       "      <td>NaN</td>\n",
       "      <td>close to everything.</td>\n",
       "      <td>5.176150</td>\n",
       "    </tr>\n",
       "    <tr>\n",
       "      <th>34189</th>\n",
       "      <td>17211583</td>\n",
       "      <td>private room in brand new apt in brooklyn, nyc</td>\n",
       "      <td>new york city</td>\n",
       "      <td>apartment</td>\n",
       "      <td>private room</td>\n",
       "      <td>{tv,\"cable tv\",\"wireless internet\",\"air conditioning\",kitchen,\"free parking on premises\",\"buzzer/wireless intercom\",heating,\"smoke detector\",\"carbon monoxide detector\",\"first aid kit\",\"safety card\",essentials,iron,\"laptop friendly workspace\"}</td>\n",
       "      <td>2</td>\n",
       "      <td>1.0</td>\n",
       "      <td>pull-out sofa</td>\n",
       "      <td>1.0</td>\n",
       "      <td>NaN</td>\n",
       "      <td>the home is located in the heart of brooklyn, with beautiful prospect park in walking distance and manhattan only 20 minutes away by train or car. our home has just been fully remodeled, and super cozy and a great place to sleep, away from the noise. enjoy fresh linens and a brand new sleeper couch with tv.</td>\n",
       "      <td>4.094345</td>\n",
       "    </tr>\n",
       "    <tr>\n",
       "      <th>47607</th>\n",
       "      <td>3877009</td>\n",
       "      <td>bay ridge brooklyn safe haven 2</td>\n",
       "      <td>new york city</td>\n",
       "      <td>apartment</td>\n",
       "      <td>entire home/apt</td>\n",
       "      <td>{tv,internet,\"wireless internet\",\"air conditioning\",kitchen,\"free parking on premises\",heating,dryer,essentials,shampoo,hangers,\"hair dryer\",iron,\"laptop friendly workspace\",\"private entrance\"}</td>\n",
       "      <td>4</td>\n",
       "      <td>NaN</td>\n",
       "      <td>real bed</td>\n",
       "      <td>1.0</td>\n",
       "      <td>1.0</td>\n",
       "      <td>upscale resedential neighborhood very , very , very safe close to everything free pick up from airport upon arrival ($75 value ) upscale resedential neighborhood very , very , very safe close to everything free pick up from airport upon arrival ($75 value ) there are 3 seperate 1 bedroom units .... look at just a nice place to stay for more info i am in bay ridge brooklyn, with private 1 bedroom apartment, the unit has a main bedroom with a queen-size bed. the living room has a sleep sofa and a normal bed. each unit sleep 4 persons. an eat in kitchen and bath, cable tv and high speed internet, very comfortable and clean. you wont be disapointed. thank you for your interest in our rental property. your hosts, the karelas family, are a blend of greek and spanish cultures, as well as seasoned travelers of the world. we invite you to taste our hospitality and promise you to do our best to make your stay in nyc a memorable one. we are located in bay ridge, a very safe, wonderful, upscale r</td>\n",
       "      <td>4.595120</td>\n",
       "    </tr>\n",
       "    <tr>\n",
       "      <th>44911</th>\n",
       "      <td>14139187</td>\n",
       "      <td>central la cozy private room</td>\n",
       "      <td>los angeles</td>\n",
       "      <td>house</td>\n",
       "      <td>private room</td>\n",
       "      <td>{tv,internet,\"wireless internet\",kitchen,washer,dryer}</td>\n",
       "      <td>2</td>\n",
       "      <td>NaN</td>\n",
       "      <td>real bed</td>\n",
       "      <td>1.0</td>\n",
       "      <td>1.0</td>\n",
       "      <td>private room in central los angeles. the room has a bed, desk and chair. free wi-fi. guests have access to the kitchen and coin-laundry. the bathrooms are shared and get cleaned daily. great central location in los angeles. close to usc, downtown l.a., and hollywood. close to public transportation and easy freeway access. free street parking the rooms can be rented short-term or long-term. the room you get may not be the same as the one in the picture of this listing, but it will be very similar.</td>\n",
       "      <td>4.025352</td>\n",
       "    </tr>\n",
       "    <tr>\n",
       "      <th>69495</th>\n",
       "      <td>1540236</td>\n",
       "      <td>sunny room w/ private sink</td>\n",
       "      <td>san francisco</td>\n",
       "      <td>apartment</td>\n",
       "      <td>private room</td>\n",
       "      <td>{internet,\"wireless internet\",kitchen,\"pets live on this property\",cat(s),heating,washer,dryer,\"smoke detector\",essentials,\"laptop friendly workspace\"}</td>\n",
       "      <td>1</td>\n",
       "      <td>NaN</td>\n",
       "      <td>real bed</td>\n",
       "      <td>1.0</td>\n",
       "      <td>1.0</td>\n",
       "      <td>light - light - &amp; more light! 1 large furnished bedroom in 1885 san francisco victorian with extra-high ceilings - and a small private sink room - just like your great grandmother used to have. best food &amp; coffee in the city 2 blocks away... 1 furnished bedroom available in a historic san francisco victorian. large, sunny, and has high ceilings. available up to 4 months. one closet, and pocket doors that can open onto the shared living room, if you please. also has a small private sink room just like your great-grandmother used to have. the room is part of a very large (2200 sf), two-floor apartment shared living room comes complete with couch, desk, tv, dvd player, internet, and fantastic sunsets over the twin peaks skyline shared sunroom, patio, and formal dining room, kitchen and 2.5 bath (complete with claw foot tub). all rooms come complete with furniture, linens &amp; towels. apartment has a total of three rooms rented to long-term international visitors. most are in sf for w</td>\n",
       "      <td>4.382027</td>\n",
       "    </tr>\n",
       "    <tr>\n",
       "      <th>72631</th>\n",
       "      <td>3394508</td>\n",
       "      <td>penthouse w/terrace in east village</td>\n",
       "      <td>new york city</td>\n",
       "      <td>apartment</td>\n",
       "      <td>entire home/apt</td>\n",
       "      <td>{tv,\"cable tv\",\"wireless internet\",\"air conditioning\",kitchen,heating,\"smoke detector\",\"carbon monoxide detector\",\"fire extinguisher\",essentials,hangers,\"hair dryer\",iron,\"laptop friendly workspace\",\"translation missing: en.hosting_amenity_49\",\"translation missing: en.hosting_amenity_50\",\"hot water\",\"bed linens\",microwave,\"coffee maker\",refrigerator,dishwasher,\"dishes and silverware\",\"cooking basics\",oven,stove,\"patio or balcony\"}</td>\n",
       "      <td>2</td>\n",
       "      <td>NaN</td>\n",
       "      <td>real bed</td>\n",
       "      <td>1.0</td>\n",
       "      <td>1.0</td>\n",
       "      <td>the space is serene with plummeting high ceilings great light and super quiet. the decor will take you to a zenful place of relaxation after the chaos of the city buzz. the terrace is private with a view of the empire state building and morning sun. this apartment is a gem. super stylish, newly renovated with brand new furniture and appliances with cable televisions and wifi. located in the heart of the east village, close to the nightlife, restaurants, coffee shops and much more. the building is in very good condition. you are 10 minutes walk from union square( don't miss the show fuerza bruta) where you can catch the subway lines (n,r/ 4, 5, 6,/ l) you also have the l stop 4 blocks from the apt. or catch other subways at astor place and 8th street and broadway. the only bad thing or maybe it’s good, is that the penthouse apartment is a 5th floor walk up. this apartment is ideal for a couple. you can call 10th street the little japan since 5 restaurants are japanese on that blo</td>\n",
       "      <td>5.521461</td>\n",
       "    </tr>\n",
       "    <tr>\n",
       "      <th>69556</th>\n",
       "      <td>17562263</td>\n",
       "      <td>west hills ca house</td>\n",
       "      <td>los angeles</td>\n",
       "      <td>house</td>\n",
       "      <td>entire home/apt</td>\n",
       "      <td>{\"cable tv\",\"wireless internet\",\"air conditioning\",\"wheelchair accessible\",kitchen,\"free parking on premises\",\"washer / dryer\",\"indoor fireplace\",heating,\"family/kid friendly\",washer,dryer}</td>\n",
       "      <td>5</td>\n",
       "      <td>NaN</td>\n",
       "      <td>real bed</td>\n",
       "      <td>3.0</td>\n",
       "      <td>1.0</td>\n",
       "      <td>beautiful, remodeled house, 20 min. to malibu beaches.</td>\n",
       "      <td>5.703782</td>\n",
       "    </tr>\n",
       "    <tr>\n",
       "      <th>55660</th>\n",
       "      <td>9855043</td>\n",
       "      <td>charming studio apartment, nyc</td>\n",
       "      <td>new york city</td>\n",
       "      <td>apartment</td>\n",
       "      <td>entire home/apt</td>\n",
       "      <td>{tv,internet,\"wireless internet\",\"air conditioning\",kitchen,\"buzzer/wireless intercom\",heating,shampoo}</td>\n",
       "      <td>2</td>\n",
       "      <td>1.0</td>\n",
       "      <td>real bed</td>\n",
       "      <td>NaN</td>\n",
       "      <td>1.0</td>\n",
       "      <td>a charming studio apartment in the heart of one of the best neighborhoods in brooklyn, just one stop away from manhattan and close to lots of shops, restaurants, parks and close to many trains. this is a quaint studio apartment in the heart of fort greene. located on south oxford street between lafayette and fulton, this location in half a block from the a/c train which takes you straight into the city within 10 minutes, and a 5 minute walk to atlantic terminal where you can access all major train lines to any of the burroughs and the lirr. it is just steps away from the wonderful stores and restaurants that make fort greene so unique. it is just 2 blocks from fort greene park and 5 minutes in the other direction gets you to the brooklyn flea market on saturdays. it's a small but cozy apartment with its own kitchen and bathroom. all utilities are included, including internet. it's the perfect little refuge in a great location. fits one to two people comfortably. there is one</td>\n",
       "      <td>4.382027</td>\n",
       "    </tr>\n",
       "    <tr>\n",
       "      <th>24208</th>\n",
       "      <td>17126504</td>\n",
       "      <td>spacious homey one bdrm apt.</td>\n",
       "      <td>new york city</td>\n",
       "      <td>apartment</td>\n",
       "      <td>entire home/apt</td>\n",
       "      <td>{}</td>\n",
       "      <td>2</td>\n",
       "      <td>NaN</td>\n",
       "      <td>real bed</td>\n",
       "      <td>NaN</td>\n",
       "      <td>NaN</td>\n",
       "      <td>big and bright, fourth floor apt. in elevator building,located in quiet,safe ,neighborhood. convenient to 24 hr.grocery shops and restaurants. close to trains, 15 minutes to manhattan. laundry in building, cable and wi-fi set up. sleeps 4 comfortably my space is very cozy and charming. laundry in basement. wifi and cable/netflix only when necessary safe with 24 hour grocery stores and a nice mix of restaurants. very convenient to city yes. subway is two blocks away</td>\n",
       "      <td>4.787492</td>\n",
       "    </tr>\n",
       "    <tr>\n",
       "      <th>46857</th>\n",
       "      <td>8613171</td>\n",
       "      <td>large sunny apartment</td>\n",
       "      <td>new york city</td>\n",
       "      <td>apartment</td>\n",
       "      <td>shared room</td>\n",
       "      <td>{tv,\"cable tv\",\"wireless internet\",\"air conditioning\",kitchen,elevator,heating,washer,dryer,\"smoke detector\",\"carbon monoxide detector\",\"first aid kit\",essentials,hangers,\"laptop friendly workspace\",\"hot water\",\"bed linens\",\"extra pillows and blankets\",microwave,\"coffee maker\",refrigerator,\"dishes and silverware\",\"cooking basics\",oven,stove}</td>\n",
       "      <td>2</td>\n",
       "      <td>1.0</td>\n",
       "      <td>pull-out sofa</td>\n",
       "      <td>1.0</td>\n",
       "      <td>NaN</td>\n",
       "      <td>this is a contemporary modern apartment that has lots of windows and faces the street; new appliances, lots of lights throughout. quite building. a 55inch smart tv, internet and cable. about a 10 minute walk to closest train, bus that takes you to train if you don't care to walk is right outside. neighborhood is a family area and very friendly with restaurants and grocery 2 blocks away. area is a mix of latin and jamaican influences. - newly furnished apartment - you'll be in the spacious living area - close to transportation - updated kitchen &amp; bath - 55' smart tv with internet and cable - onsite laundry - me as your host i want your stay to feel comfortable and enjoyable. i can be social with you or give you space, just let me know what you prefer. i do work full-time; longer than average work days, but you can text me or call if their is something you need help with. family neighborhood with influence from latin and jamaican cultures. close to transportation bx35 bus, b/d train a</td>\n",
       "      <td>3.806662</td>\n",
       "    </tr>\n",
       "  </tbody>\n",
       "</table>\n",
       "</div>"
      ],
      "text/plain": [
       "             id                                            name  \\\n",
       "40192  17131099   private room wifi kitchen close to everything   \n",
       "34189  17211583  private room in brand new apt in brooklyn, nyc   \n",
       "47607   3877009                 bay ridge brooklyn safe haven 2   \n",
       "44911  14139187                    central la cozy private room   \n",
       "69495   1540236                      sunny room w/ private sink   \n",
       "72631   3394508             penthouse w/terrace in east village   \n",
       "69556  17562263                             west hills ca house   \n",
       "55660   9855043                  charming studio apartment, nyc   \n",
       "24208  17126504                    spacious homey one bdrm apt.   \n",
       "46857   8613171                           large sunny apartment   \n",
       "\n",
       "                city property_type        room_type  \\\n",
       "40192    los angeles     apartment     private room   \n",
       "34189  new york city     apartment     private room   \n",
       "47607  new york city     apartment  entire home/apt   \n",
       "44911    los angeles         house     private room   \n",
       "69495  san francisco     apartment     private room   \n",
       "72631  new york city     apartment  entire home/apt   \n",
       "69556    los angeles         house  entire home/apt   \n",
       "55660  new york city     apartment  entire home/apt   \n",
       "24208  new york city     apartment  entire home/apt   \n",
       "46857  new york city     apartment      shared room   \n",
       "\n",
       "                                                                                                                                                                                                                                                                                                                                                                                                                                                amenities  \\\n",
       "40192                                                                                                                                              {tv,\"wireless internet\",\"air conditioning\",kitchen,\"free parking on premises\",\"smoking allowed\",heating,\"family/kid friendly\",\"suitable for events\",washer,dryer,\"smoke detector\",\"carbon monoxide detector\",\"first aid kit\",essentials,shampoo,hangers,\"hair dryer\",iron,\"laptop friendly workspace\"}   \n",
       "34189                                                                                                                                                                                                  {tv,\"cable tv\",\"wireless internet\",\"air conditioning\",kitchen,\"free parking on premises\",\"buzzer/wireless intercom\",heating,\"smoke detector\",\"carbon monoxide detector\",\"first aid kit\",\"safety card\",essentials,iron,\"laptop friendly workspace\"}   \n",
       "47607                                                                                                                                                                                                                                                   {tv,internet,\"wireless internet\",\"air conditioning\",kitchen,\"free parking on premises\",heating,dryer,essentials,shampoo,hangers,\"hair dryer\",iron,\"laptop friendly workspace\",\"private entrance\"}   \n",
       "44911                                                                                                                                                                                                                                                                                                                                                                                              {tv,internet,\"wireless internet\",kitchen,washer,dryer}   \n",
       "69495                                                                                                                                                                                                                                                                                             {internet,\"wireless internet\",kitchen,\"pets live on this property\",cat(s),heating,washer,dryer,\"smoke detector\",essentials,\"laptop friendly workspace\"}   \n",
       "72631  {tv,\"cable tv\",\"wireless internet\",\"air conditioning\",kitchen,heating,\"smoke detector\",\"carbon monoxide detector\",\"fire extinguisher\",essentials,hangers,\"hair dryer\",iron,\"laptop friendly workspace\",\"translation missing: en.hosting_amenity_49\",\"translation missing: en.hosting_amenity_50\",\"hot water\",\"bed linens\",microwave,\"coffee maker\",refrigerator,dishwasher,\"dishes and silverware\",\"cooking basics\",oven,stove,\"patio or balcony\"}   \n",
       "69556                                                                                                                                                                                                                                                       {\"cable tv\",\"wireless internet\",\"air conditioning\",\"wheelchair accessible\",kitchen,\"free parking on premises\",\"washer / dryer\",\"indoor fireplace\",heating,\"family/kid friendly\",washer,dryer}   \n",
       "55660                                                                                                                                                                                                                                                                                                                                             {tv,internet,\"wireless internet\",\"air conditioning\",kitchen,\"buzzer/wireless intercom\",heating,shampoo}   \n",
       "24208                                                                                                                                                                                                                                                                                                                                                                                                                                                  {}   \n",
       "46857                                                                                             {tv,\"cable tv\",\"wireless internet\",\"air conditioning\",kitchen,elevator,heating,washer,dryer,\"smoke detector\",\"carbon monoxide detector\",\"first aid kit\",essentials,hangers,\"laptop friendly workspace\",\"hot water\",\"bed linens\",\"extra pillows and blankets\",microwave,\"coffee maker\",refrigerator,\"dishes and silverware\",\"cooking basics\",oven,stove}   \n",
       "\n",
       "       accommodates  bathrooms       bed_type  bedrooms  beds  \\\n",
       "40192             1        1.5       real bed       NaN   NaN   \n",
       "34189             2        1.0  pull-out sofa       1.0   NaN   \n",
       "47607             4        NaN       real bed       1.0   1.0   \n",
       "44911             2        NaN       real bed       1.0   1.0   \n",
       "69495             1        NaN       real bed       1.0   1.0   \n",
       "72631             2        NaN       real bed       1.0   1.0   \n",
       "69556             5        NaN       real bed       3.0   1.0   \n",
       "55660             2        1.0       real bed       NaN   1.0   \n",
       "24208             2        NaN       real bed       NaN   NaN   \n",
       "46857             2        1.0  pull-out sofa       1.0   NaN   \n",
       "\n",
       "                                                                                                                                                                                                                                                                                                                                                                                                                                                                                                                                                                                                                                                                                                                                                                                                                                                                                                                                                                                                                                   description  \\\n",
       "40192                                                                                                                                                                                                                                                                                                                                                                                                                                                                                                                                                                                                                                                                                                                                                                                                                                                                                                                                                                                                                     close to everything.   \n",
       "34189                                                                                                                                                                                                                                                                                                                                                                                                                                                                                                                                                                                                                                                                                                                     the home is located in the heart of brooklyn, with beautiful prospect park in walking distance and manhattan only 20 minutes away by train or car. our home has just been fully remodeled, and super cozy and a great place to sleep, away from the noise. enjoy fresh linens and a brand new sleeper couch with tv.   \n",
       "47607  upscale resedential neighborhood very , very , very safe close to everything free pick up from airport upon arrival ($75 value ) upscale resedential neighborhood very , very , very safe close to everything free pick up from airport upon arrival ($75 value ) there are 3 seperate 1 bedroom units .... look at just a nice place to stay for more info i am in bay ridge brooklyn, with private 1 bedroom apartment, the unit has a main bedroom with a queen-size bed. the living room has a sleep sofa and a normal bed. each unit sleep 4 persons. an eat in kitchen and bath, cable tv and high speed internet, very comfortable and clean. you wont be disapointed. thank you for your interest in our rental property. your hosts, the karelas family, are a blend of greek and spanish cultures, as well as seasoned travelers of the world. we invite you to taste our hospitality and promise you to do our best to make your stay in nyc a memorable one. we are located in bay ridge, a very safe, wonderful, upscale r   \n",
       "44911                                                                                                                                                                                                                                                                                                                                                                                                                                                                                                                    private room in central los angeles. the room has a bed, desk and chair. free wi-fi. guests have access to the kitchen and coin-laundry. the bathrooms are shared and get cleaned daily. great central location in los angeles. close to usc, downtown l.a., and hollywood. close to public transportation and easy freeway access. free street parking the rooms can be rented short-term or long-term. the room you get may not be the same as the one in the picture of this listing, but it will be very similar.   \n",
       "69495         light - light - & more light! 1 large furnished bedroom in 1885 san francisco victorian with extra-high ceilings - and a small private sink room - just like your great grandmother used to have. best food & coffee in the city 2 blocks away... 1 furnished bedroom available in a historic san francisco victorian. large, sunny, and has high ceilings. available up to 4 months. one closet, and pocket doors that can open onto the shared living room, if you please. also has a small private sink room just like your great-grandmother used to have. the room is part of a very large (2200 sf), two-floor apartment shared living room comes complete with couch, desk, tv, dvd player, internet, and fantastic sunsets over the twin peaks skyline shared sunroom, patio, and formal dining room, kitchen and 2.5 bath (complete with claw foot tub). all rooms come complete with furniture, linens & towels. apartment has a total of three rooms rented to long-term international visitors. most are in sf for w   \n",
       "72631        the space is serene with plummeting high ceilings great light and super quiet. the decor will take you to a zenful place of relaxation after the chaos of the city buzz. the terrace is private with a view of the empire state building and morning sun. this apartment is a gem. super stylish, newly renovated with brand new furniture and appliances with cable televisions and wifi. located in the heart of the east village, close to the nightlife, restaurants, coffee shops and much more. the building is in very good condition. you are 10 minutes walk from union square( don't miss the show fuerza bruta) where you can catch the subway lines (n,r/ 4, 5, 6,/ l) you also have the l stop 4 blocks from the apt. or catch other subways at astor place and 8th street and broadway. the only bad thing or maybe it’s good, is that the penthouse apartment is a 5th floor walk up. this apartment is ideal for a couple. you can call 10th street the little japan since 5 restaurants are japanese on that blo   \n",
       "69556                                                                                                                                                                                                                                                                                                                                                                                                                                                                                                                                                                                                                                                                                                                                                                                                                                                                                                                                                                                   beautiful, remodeled house, 20 min. to malibu beaches.   \n",
       "55660            a charming studio apartment in the heart of one of the best neighborhoods in brooklyn, just one stop away from manhattan and close to lots of shops, restaurants, parks and close to many trains. this is a quaint studio apartment in the heart of fort greene. located on south oxford street between lafayette and fulton, this location in half a block from the a/c train which takes you straight into the city within 10 minutes, and a 5 minute walk to atlantic terminal where you can access all major train lines to any of the burroughs and the lirr. it is just steps away from the wonderful stores and restaurants that make fort greene so unique. it is just 2 blocks from fort greene park and 5 minutes in the other direction gets you to the brooklyn flea market on saturdays. it's a small but cozy apartment with its own kitchen and bathroom. all utilities are included, including internet. it's the perfect little refuge in a great location. fits one to two people comfortably. there is one   \n",
       "24208                                                                                                                                                                                                                                                                                                                                                                                                                                                                                                                                                    big and bright, fourth floor apt. in elevator building,located in quiet,safe ,neighborhood. convenient to 24 hr.grocery shops and restaurants. close to trains, 15 minutes to manhattan. laundry in building, cable and wi-fi set up. sleeps 4 comfortably my space is very cozy and charming. laundry in basement. wifi and cable/netflix only when necessary safe with 24 hour grocery stores and a nice mix of restaurants. very convenient to city yes. subway is two blocks away   \n",
       "46857    this is a contemporary modern apartment that has lots of windows and faces the street; new appliances, lots of lights throughout. quite building. a 55inch smart tv, internet and cable. about a 10 minute walk to closest train, bus that takes you to train if you don't care to walk is right outside. neighborhood is a family area and very friendly with restaurants and grocery 2 blocks away. area is a mix of latin and jamaican influences. - newly furnished apartment - you'll be in the spacious living area - close to transportation - updated kitchen & bath - 55' smart tv with internet and cable - onsite laundry - me as your host i want your stay to feel comfortable and enjoyable. i can be social with you or give you space, just let me know what you prefer. i do work full-time; longer than average work days, but you can text me or call if their is something you need help with. family neighborhood with influence from latin and jamaican cultures. close to transportation bx35 bus, b/d train a   \n",
       "\n",
       "       log_price  \n",
       "40192   5.176150  \n",
       "34189   4.094345  \n",
       "47607   4.595120  \n",
       "44911   4.025352  \n",
       "69495   4.382027  \n",
       "72631   5.521461  \n",
       "69556   5.703782  \n",
       "55660   4.382027  \n",
       "24208   4.787492  \n",
       "46857   3.806662  "
      ]
     },
     "execution_count": 30,
     "metadata": {},
     "output_type": "execute_result"
    }
   ],
   "source": [
    "pd.set_option('display.max_colwidth', None)\n",
    "# Null rows dataframe\n",
    "null_rows = df[df.isna().any(axis=1)]\n",
    "null_rows.sample(10,random_state=42)"
   ]
  },
  {
   "cell_type": "markdown",
   "id": "7de16889-4a4d-442b-b5b3-df0f4cd56357",
   "metadata": {},
   "source": [
    "##### Handling missing values in `bathrooms` column"
   ]
  },
  {
   "cell_type": "code",
   "execution_count": 32,
   "id": "41042502-cb8a-46a2-8184-aab810ab82d8",
   "metadata": {},
   "outputs": [
    {
     "data": {
      "text/plain": [
       "bathrooms\n",
       "1.0    58099\n",
       "2.0     7936\n",
       "1.5     3801\n",
       "2.5     1567\n",
       "3.0     1066\n",
       "3.5      429\n",
       "4.0      286\n",
       "0.5      209\n",
       "0.0      198\n",
       "4.5      116\n",
       "5.0       72\n",
       "8.0       41\n",
       "5.5       39\n",
       "6.0       24\n",
       "6.5       12\n",
       "7.0       10\n",
       "7.5        6\n",
       "Name: count, dtype: int64"
      ]
     },
     "execution_count": 32,
     "metadata": {},
     "output_type": "execute_result"
    }
   ],
   "source": [
    "# Getting the value counts of bathrooms    \n",
    "df.bathrooms.value_counts()"
   ]
  },
  {
   "cell_type": "code",
   "execution_count": 33,
   "id": "bdd99223-3539-49ed-8a24-13e482e1b2cd",
   "metadata": {},
   "outputs": [
    {
     "data": {
      "text/plain": [
       "room_type\n",
       "private room       127\n",
       "entire home/apt     62\n",
       "shared room         11\n",
       "Name: bathrooms, dtype: int64"
      ]
     },
     "execution_count": 33,
     "metadata": {},
     "output_type": "execute_result"
    }
   ],
   "source": [
    "df.groupby('room_type')['bathrooms'].apply(lambda x: x.isnull().sum()).sort_values(ascending=False)"
   ]
  },
  {
   "cell_type": "code",
   "execution_count": 34,
   "id": "b7c470be-e4ba-42c3-b120-1739e314ba86",
   "metadata": {},
   "outputs": [
    {
     "data": {
      "text/plain": [
       "accommodates\n",
       "2     93\n",
       "1     65\n",
       "4     20\n",
       "3     13\n",
       "6      3\n",
       "8      3\n",
       "5      2\n",
       "16     1\n",
       "7      0\n",
       "9      0\n",
       "10     0\n",
       "11     0\n",
       "12     0\n",
       "13     0\n",
       "14     0\n",
       "15     0\n",
       "Name: bathrooms, dtype: int64"
      ]
     },
     "execution_count": 34,
     "metadata": {},
     "output_type": "execute_result"
    }
   ],
   "source": [
    "df.groupby('accommodates')['bathrooms'].apply(lambda x: x.isnull().sum()).sort_values(ascending=False)"
   ]
  },
  {
   "cell_type": "code",
   "execution_count": 35,
   "id": "c6fcc8f2-66a0-438d-9d3e-954ed8ae4820",
   "metadata": {},
   "outputs": [
    {
     "data": {
      "text/plain": [
       "bed_type\n",
       "real bed         191\n",
       "futon              5\n",
       "airbed             3\n",
       "couch              1\n",
       "pull-out sofa      0\n",
       "Name: bathrooms, dtype: int64"
      ]
     },
     "execution_count": 35,
     "metadata": {},
     "output_type": "execute_result"
    }
   ],
   "source": [
    "df.groupby('bed_type')['bathrooms'].apply(lambda x: x.isnull().sum()).sort_values(ascending=False)"
   ]
  },
  {
   "cell_type": "code",
   "execution_count": 36,
   "id": "762e70cb-29ad-4466-a86c-e220770c80d3",
   "metadata": {},
   "outputs": [
    {
     "data": {
      "text/plain": [
       "bedrooms\n",
       "1.0     178\n",
       "2.0      11\n",
       "3.0       4\n",
       "4.0       2\n",
       "0.0       0\n",
       "5.0       0\n",
       "6.0       0\n",
       "7.0       0\n",
       "8.0       0\n",
       "9.0       0\n",
       "10.0      0\n",
       "Name: bathrooms, dtype: int64"
      ]
     },
     "execution_count": 36,
     "metadata": {},
     "output_type": "execute_result"
    }
   ],
   "source": [
    "df.groupby('bedrooms')['bathrooms'].apply(lambda x: x.isnull().sum()).sort_values(ascending=False)"
   ]
  },
  {
   "cell_type": "code",
   "execution_count": 37,
   "id": "62d308ea-4da0-47ed-a26d-84871c7db19f",
   "metadata": {},
   "outputs": [
    {
     "data": {
      "text/plain": [
       "beds\n",
       "1.0     133\n",
       "2.0      18\n",
       "3.0       1\n",
       "4.0       1\n",
       "5.0       1\n",
       "0.0       0\n",
       "12.0      0\n",
       "16.0      0\n",
       "15.0      0\n",
       "14.0      0\n",
       "13.0      0\n",
       "9.0       0\n",
       "11.0      0\n",
       "10.0      0\n",
       "8.0       0\n",
       "7.0       0\n",
       "6.0       0\n",
       "18.0      0\n",
       "Name: bathrooms, dtype: int64"
      ]
     },
     "execution_count": 37,
     "metadata": {},
     "output_type": "execute_result"
    }
   ],
   "source": [
    "df.groupby('beds')['bathrooms'].apply(lambda x: x.isnull().sum()).sort_values(ascending=False)"
   ]
  },
  {
   "cell_type": "code",
   "execution_count": 38,
   "id": "8942e525-53b5-4796-966f-40e7b3229af2",
   "metadata": {},
   "outputs": [
    {
     "data": {
      "text/plain": [
       "property_type\n",
       "apartment             120\n",
       "house                  57\n",
       "dorm                    8\n",
       "other                   5\n",
       "bed & breakfast         4\n",
       "loft                    2\n",
       "townhouse               1\n",
       "parking space           1\n",
       "condominium             1\n",
       "camper/rv               1\n",
       "train                   0\n",
       "tipi                    0\n",
       "lighthouse              0\n",
       "treehouse               0\n",
       "timeshare               0\n",
       "tent                    0\n",
       "serviced apartment      0\n",
       "vacation home           0\n",
       "villa                   0\n",
       "boat                    0\n",
       "hut                     0\n",
       "island                  0\n",
       "in-law                  0\n",
       "boutique hotel          0\n",
       "hostel                  0\n",
       "guesthouse              0\n",
       "guest suite             0\n",
       "earth house             0\n",
       "chalet                  0\n",
       "cave                    0\n",
       "castle                  0\n",
       "casa particular         0\n",
       "cabin                   0\n",
       "bungalow                0\n",
       "yurt                    0\n",
       "Name: bathrooms, dtype: int64"
      ]
     },
     "execution_count": 38,
     "metadata": {},
     "output_type": "execute_result"
    }
   ],
   "source": [
    "df.groupby('property_type')['bathrooms'].apply(lambda x: x.isnull().sum()).sort_values(ascending=False)"
   ]
  },
  {
   "cell_type": "code",
   "execution_count": 39,
   "id": "2c4e03cc-c555-44ee-8022-596e2dd6c12d",
   "metadata": {},
   "outputs": [],
   "source": [
    "# from statsmodels.imputation.mice import test_mcar\n",
    "\n",
    "# mcar_test = test_mcar(df)\n",
    "# print(\"MCAR Test p-value:\", mcar_test.pvalue)"
   ]
  },
  {
   "cell_type": "code",
   "execution_count": 40,
   "id": "93f752d3-76fb-4fda-8036-ad13a844ea72",
   "metadata": {},
   "outputs": [],
   "source": [
    "import re\n",
    "\n",
    "# Bathroom keyword mapping\n",
    "bathroom_keywords = {'one bathroom': 1, 'two bathrooms': 2, 'three bathrooms': 3,\n",
    "                     'four bathrooms': 4, 'private bathroom': 1, 'half bathroom': 0.5,\n",
    "                     'ensuite bathroom': 1, 'full bathroom': 1, 'master bathroom': 1,\n",
    "                     '1.5 bathrooms': 1.5, '2.5 bathrooms': 2.5, '3.5 bathrooms': 3.5, \n",
    "                     '4.5 bathrooms': 4.5}\n",
    "\n",
    "# Function to update bathrooms column due to inconsistency\n",
    "def update_bathroom_count(row):\n",
    "    if row['bathrooms'] == 0: \n",
    "        description = row['description'].lower()\n",
    "\n",
    "        # Checking for  numbers before \"bathroom(s)\" word\n",
    "        match = re.search(r'(\\d+(\\.\\d+)?)\\s+bathrooms?', description)\n",
    "        if match:\n",
    "            return float(match.group(1))  \n",
    "\n",
    "        # Checking for words in the mapping\n",
    "        for key, value in bathroom_keywords.items():\n",
    "            if key in description:\n",
    "                return value\n",
    "\n",
    "        # # Handling shared bathroom \n",
    "        # if 'shared bathroom' in description or 'bathrooms are shared' in description:\n",
    "        #     return 1 \n",
    "\n",
    "        # setting value to 1 if \"bathroom\" is mentioned but no specific count\n",
    "        if 'bathroom' in description or 'bathrooms' in description:\n",
    "            return 1\n",
    "\n",
    "    return row['bathrooms']  \n",
    "\n",
    "# Apply function\n",
    "df['bathrooms'] = df.apply(update_bathroom_count, axis=1)"
   ]
  },
  {
   "cell_type": "code",
   "execution_count": 41,
   "id": "6dd2f72f-fbf6-49b9-95c7-7c02ff8c7401",
   "metadata": {},
   "outputs": [
    {
     "data": {
      "text/plain": [
       "bathrooms\n",
       "1.0    58182\n",
       "2.0     7943\n",
       "1.5     3801\n",
       "2.5     1569\n",
       "3.0     1067\n",
       "3.5      429\n",
       "4.0      286\n",
       "0.5      209\n",
       "4.5      116\n",
       "0.0      104\n",
       "5.0       72\n",
       "8.0       41\n",
       "5.5       39\n",
       "6.0       24\n",
       "6.5       12\n",
       "7.0       11\n",
       "7.5        6\n",
       "Name: count, dtype: int64"
      ]
     },
     "execution_count": 41,
     "metadata": {},
     "output_type": "execute_result"
    }
   ],
   "source": [
    "# Getting the value counts of bathrooms    \n",
    "df.bathrooms.value_counts()"
   ]
  },
  {
   "cell_type": "code",
   "execution_count": 42,
   "id": "2ad2036b-2ae6-419b-8dd4-e22928ac3c51",
   "metadata": {},
   "outputs": [
    {
     "data": {
      "text/html": [
       "<div>\n",
       "<style scoped>\n",
       "    .dataframe tbody tr th:only-of-type {\n",
       "        vertical-align: middle;\n",
       "    }\n",
       "\n",
       "    .dataframe tbody tr th {\n",
       "        vertical-align: top;\n",
       "    }\n",
       "\n",
       "    .dataframe thead th {\n",
       "        text-align: right;\n",
       "    }\n",
       "</style>\n",
       "<table border=\"1\" class=\"dataframe\">\n",
       "  <thead>\n",
       "    <tr style=\"text-align: right;\">\n",
       "      <th></th>\n",
       "      <th>id</th>\n",
       "      <th>name</th>\n",
       "      <th>city</th>\n",
       "      <th>property_type</th>\n",
       "      <th>room_type</th>\n",
       "      <th>amenities</th>\n",
       "      <th>accommodates</th>\n",
       "      <th>bathrooms</th>\n",
       "      <th>bed_type</th>\n",
       "      <th>bedrooms</th>\n",
       "      <th>beds</th>\n",
       "      <th>description</th>\n",
       "      <th>log_price</th>\n",
       "    </tr>\n",
       "  </thead>\n",
       "  <tbody>\n",
       "    <tr>\n",
       "      <th>1356</th>\n",
       "      <td>455864</td>\n",
       "      <td>cozy bed with a view</td>\n",
       "      <td>los angeles</td>\n",
       "      <td>bed &amp; breakfast</td>\n",
       "      <td>shared room</td>\n",
       "      <td>{\"translation missing: en.hosting_amenity_49\",\"translation missing: en.hosting_amenity_50\"}</td>\n",
       "      <td>1</td>\n",
       "      <td>0.0</td>\n",
       "      <td>real bed</td>\n",
       "      <td>1.0</td>\n",
       "      <td>1.0</td>\n",
       "      <td>the warm neutral spacious bedroom, 1 bedroom and bath in the main floor ,immediately following newly replaced gorgeous contemporary floor, upgrades include new paint .</td>\n",
       "      <td>3.912023</td>\n",
       "    </tr>\n",
       "    <tr>\n",
       "      <th>1441</th>\n",
       "      <td>18703078</td>\n",
       "      <td>room in east village with backyard</td>\n",
       "      <td>new york city</td>\n",
       "      <td>apartment</td>\n",
       "      <td>private room</td>\n",
       "      <td>{tv,\"cable tv\",internet,\"wireless internet\",\"air conditioning\",kitchen,\"smoking allowed\",\"buzzer/wireless intercom\",heating,\"smoke detector\",\"carbon monoxide detector\",essentials,\"lock on bedroom door\",\"24-hour check-in\",hangers,iron,\"translation missing: en.hosting_amenity_49\",\"translation missing: en.hosting_amenity_50\"}</td>\n",
       "      <td>2</td>\n",
       "      <td>0.0</td>\n",
       "      <td>real bed</td>\n",
       "      <td>1.0</td>\n",
       "      <td>1.0</td>\n",
       "      <td>nice bedroom right in the center of east village ! be where the action is ! only 2 blocks away from l train, the unit has his own private backyard. you'll share the unit with my 2 roommates (mike - 28yo - uk &amp; james - 27yo - uk).</td>\n",
       "      <td>4.248495</td>\n",
       "    </tr>\n",
       "    <tr>\n",
       "      <th>1704</th>\n",
       "      <td>15007995</td>\n",
       "      <td>elin's room</td>\n",
       "      <td>los angeles</td>\n",
       "      <td>house</td>\n",
       "      <td>private room</td>\n",
       "      <td>{tv,\"cable tv\",internet,\"wireless internet\",\"air conditioning\",pool,kitchen,\"free parking on premises\",doorman,gym,breakfast,\"hot tub\",heating,washer,dryer,essentials,shampoo}</td>\n",
       "      <td>1</td>\n",
       "      <td>0.0</td>\n",
       "      <td>real bed</td>\n",
       "      <td>1.0</td>\n",
       "      <td>1.0</td>\n",
       "      <td>hi, welcome students! 1 bedroom, wifi, fridge, fully furnished, 800 month including utilities, laundry, kitchen access, cable</td>\n",
       "      <td>3.688879</td>\n",
       "    </tr>\n",
       "  </tbody>\n",
       "</table>\n",
       "</div>"
      ],
      "text/plain": [
       "            id                                name           city  \\\n",
       "1356    455864                cozy bed with a view    los angeles   \n",
       "1441  18703078  room in east village with backyard  new york city   \n",
       "1704  15007995                         elin's room    los angeles   \n",
       "\n",
       "        property_type     room_type  \\\n",
       "1356  bed & breakfast   shared room   \n",
       "1441        apartment  private room   \n",
       "1704            house  private room   \n",
       "\n",
       "                                                                                                                                                                                                                                                                                                                                 amenities  \\\n",
       "1356                                                                                                                                                                                                                                           {\"translation missing: en.hosting_amenity_49\",\"translation missing: en.hosting_amenity_50\"}   \n",
       "1441  {tv,\"cable tv\",internet,\"wireless internet\",\"air conditioning\",kitchen,\"smoking allowed\",\"buzzer/wireless intercom\",heating,\"smoke detector\",\"carbon monoxide detector\",essentials,\"lock on bedroom door\",\"24-hour check-in\",hangers,iron,\"translation missing: en.hosting_amenity_49\",\"translation missing: en.hosting_amenity_50\"}   \n",
       "1704                                                                                                                                                       {tv,\"cable tv\",internet,\"wireless internet\",\"air conditioning\",pool,kitchen,\"free parking on premises\",doorman,gym,breakfast,\"hot tub\",heating,washer,dryer,essentials,shampoo}   \n",
       "\n",
       "      accommodates  bathrooms  bed_type  bedrooms  beds  \\\n",
       "1356             1        0.0  real bed       1.0   1.0   \n",
       "1441             2        0.0  real bed       1.0   1.0   \n",
       "1704             1        0.0  real bed       1.0   1.0   \n",
       "\n",
       "                                                                                                                                                                                                                                description  \\\n",
       "1356                                                                the warm neutral spacious bedroom, 1 bedroom and bath in the main floor ,immediately following newly replaced gorgeous contemporary floor, upgrades include new paint .   \n",
       "1441  nice bedroom right in the center of east village ! be where the action is ! only 2 blocks away from l train, the unit has his own private backyard. you'll share the unit with my 2 roommates (mike - 28yo - uk & james - 27yo - uk).   \n",
       "1704                                                                                                          hi, welcome students! 1 bedroom, wifi, fridge, fully furnished, 800 month including utilities, laundry, kitchen access, cable   \n",
       "\n",
       "      log_price  \n",
       "1356   3.912023  \n",
       "1441   4.248495  \n",
       "1704   3.688879  "
      ]
     },
     "execution_count": 42,
     "metadata": {},
     "output_type": "execute_result"
    }
   ],
   "source": [
    "# Dataframe of columns with no batherooms\n",
    "no_bathrooms = df[df[\"bathrooms\"]==0.0]\n",
    "no_bathrooms.head(3)"
   ]
  },
  {
   "cell_type": "code",
   "execution_count": 43,
   "id": "e6022300-aeb7-4233-9d58-bc5360f0e4ed",
   "metadata": {},
   "outputs": [
    {
     "data": {
      "text/plain": [
       "<Figure size 1200x600 with 0 Axes>"
      ]
     },
     "metadata": {},
     "output_type": "display_data"
    },
    {
     "data": {
      "image/png": "[encoded data removed]",
      "text/plain": [
       "<Figure size 500x500 with 1 Axes>"
      ]
     },
     "metadata": {},
     "output_type": "display_data"
    }
   ],
   "source": [
    "# Setting the size of the plot \n",
    "plt.figure(figsize=(12,6))\n",
    "# Checking the distribution on bathrooms\n",
    "sns.displot(data=df,x=\"bathrooms\", kind=\"kde\")\n",
    "\n",
    "# Adding title\n",
    "plt.title(\"Bathrooms distribution\")\n",
    "\n",
    "plt.show()"
   ]
  },
  {
   "cell_type": "code",
   "execution_count": 44,
   "id": "dc95d2b5-ffeb-491b-9d84-0bbcd5c7f49f",
   "metadata": {},
   "outputs": [],
   "source": [
    "# Filling bathroom missing values using median\n",
    "df['bathrooms'] = df['bathrooms'].fillna(df['bathrooms'].median())"
   ]
  },
  {
   "cell_type": "markdown",
   "id": "86d749fc-52e4-4226-b592-533ebc1c08aa",
   "metadata": {},
   "source": [
    "##### Handling missing values in `beds` column"
   ]
  },
  {
   "cell_type": "code",
   "execution_count": 46,
   "id": "29b547da-14e3-4d09-b262-004aa3baf40a",
   "metadata": {},
   "outputs": [
    {
     "data": {
      "text/plain": [
       "beds\n",
       "1.0     45144\n",
       "2.0     16704\n",
       "3.0      6442\n",
       "4.0      3065\n",
       "5.0      1287\n",
       "6.0       661\n",
       "7.0       216\n",
       "8.0       186\n",
       "10.0       88\n",
       "9.0        72\n",
       "16.0       38\n",
       "12.0       29\n",
       "11.0       23\n",
       "13.0       10\n",
       "15.0        6\n",
       "14.0        4\n",
       "0.0         4\n",
       "18.0        1\n",
       "Name: count, dtype: int64"
      ]
     },
     "execution_count": 46,
     "metadata": {},
     "output_type": "execute_result"
    }
   ],
   "source": [
    "# Getting the value counts of beds\n",
    "df.beds.value_counts()"
   ]
  },
  {
   "cell_type": "code",
   "execution_count": 47,
   "id": "f280e9d9-e232-48e8-9182-51b4698ac2bf",
   "metadata": {},
   "outputs": [],
   "source": [
    "# Bed keywords mapping\n",
    "bed_keywords = {'double bed': 1,'single bed': 1,'two single beds': 2,'queen bed': 1,'king bed': 1}\n",
    "\n",
    "# Function to update bed column due to inconsistency \n",
    "def update_bed_count(row):\n",
    "    if row['beds'] == 0:  \n",
    "        description = row['description'].lower()\n",
    "        for key, value in bed_keywords.items():\n",
    "            if key in description:\n",
    "                return value  \n",
    "        if 'bed' in description or 'beds' in description: \n",
    "            return 1  \n",
    "    return row['beds']\n",
    "\n",
    "# Apply function\n",
    "df['beds'] = df.apply(update_bed_count, axis=1)"
   ]
  },
  {
   "cell_type": "code",
   "execution_count": 48,
   "id": "f1725147-469b-4d5c-acbd-e55c1b9a0141",
   "metadata": {},
   "outputs": [
    {
     "data": {
      "text/plain": [
       "beds\n",
       "1.0     45147\n",
       "2.0     16704\n",
       "3.0      6442\n",
       "4.0      3065\n",
       "5.0      1287\n",
       "6.0       661\n",
       "7.0       216\n",
       "8.0       186\n",
       "10.0       88\n",
       "9.0        72\n",
       "16.0       38\n",
       "12.0       29\n",
       "11.0       23\n",
       "13.0       10\n",
       "15.0        6\n",
       "14.0        4\n",
       "0.0         1\n",
       "18.0        1\n",
       "Name: count, dtype: int64"
      ]
     },
     "execution_count": 48,
     "metadata": {},
     "output_type": "execute_result"
    }
   ],
   "source": [
    "# Getting the value counts of beds\n",
    "df.beds.value_counts()"
   ]
  },
  {
   "cell_type": "code",
   "execution_count": 49,
   "id": "15d39ca5-040a-4d7a-8350-26ba0708723d",
   "metadata": {},
   "outputs": [
    {
     "data": {
      "text/html": [
       "<div>\n",
       "<style scoped>\n",
       "    .dataframe tbody tr th:only-of-type {\n",
       "        vertical-align: middle;\n",
       "    }\n",
       "\n",
       "    .dataframe tbody tr th {\n",
       "        vertical-align: top;\n",
       "    }\n",
       "\n",
       "    .dataframe thead th {\n",
       "        text-align: right;\n",
       "    }\n",
       "</style>\n",
       "<table border=\"1\" class=\"dataframe\">\n",
       "  <thead>\n",
       "    <tr style=\"text-align: right;\">\n",
       "      <th></th>\n",
       "      <th>id</th>\n",
       "      <th>name</th>\n",
       "      <th>city</th>\n",
       "      <th>property_type</th>\n",
       "      <th>room_type</th>\n",
       "      <th>amenities</th>\n",
       "      <th>accommodates</th>\n",
       "      <th>bathrooms</th>\n",
       "      <th>bed_type</th>\n",
       "      <th>bedrooms</th>\n",
       "      <th>beds</th>\n",
       "      <th>description</th>\n",
       "      <th>log_price</th>\n",
       "    </tr>\n",
       "  </thead>\n",
       "  <tbody>\n",
       "    <tr>\n",
       "      <th>39057</th>\n",
       "      <td>8684344</td>\n",
       "      <td>posh studio in back bay</td>\n",
       "      <td>boston</td>\n",
       "      <td>apartment</td>\n",
       "      <td>entire home/apt</td>\n",
       "      <td>{tv,\"cable tv\",internet,\"wireless internet\",\"air conditioning\",kitchen,\"buzzer/wireless intercom\",heating,\"family/kid friendly\",washer,dryer,\"smoke detector\",\"fire extinguisher\",essentials,shampoo,\"24-hour check-in\",hangers,\"hair dryer\",iron,\"laptop friendly workspace\",\"self check-in\",lockbox,\"hot water\",\"bed linens\",microwave,\"coffee maker\",refrigerator,\"dishes and silverware\",\"cooking basics\",stove,\"long term stays allowed\"}</td>\n",
       "      <td>2</td>\n",
       "      <td>1.0</td>\n",
       "      <td>real bed</td>\n",
       "      <td>0.0</td>\n",
       "      <td>0.0</td>\n",
       "      <td>this posh studio has sleek hardwood floors, a large open-concept kitchen, and incredible architectural details. located in back bay, a short walk to fashionable shops, river-side walkways, and excellent restaurants. every booking is instantly confirmed. every call or message is answered within minutes. every home is equipped with crisp linens, high-speed wi-fi, and kitchen and bath essentials—everything you need for an exceptional stay. our concierge is available by phone, email, or messenger 24/7. don’t hesitate to contact us if you need anything, from extra towels to restaurant recommendations. otherwise, we’ll leave you to enjoy your stay. right downstairs you’ll find newbury street bustling with high end boutiques and restaurants. just a block away, take a stroll on the commonwealth ave mall straight to the public gardens and boston common. boston’s back bay is known for its lovely rows of victorian houses, river-side walkways, fashionable shops, and excellent restaurants. parking</td>\n",
       "      <td>4.691348</td>\n",
       "    </tr>\n",
       "  </tbody>\n",
       "</table>\n",
       "</div>"
      ],
      "text/plain": [
       "            id                     name    city property_type  \\\n",
       "39057  8684344  posh studio in back bay  boston     apartment   \n",
       "\n",
       "             room_type  \\\n",
       "39057  entire home/apt   \n",
       "\n",
       "                                                                                                                                                                                                                                                                                                                                                                                                                                            amenities  \\\n",
       "39057  {tv,\"cable tv\",internet,\"wireless internet\",\"air conditioning\",kitchen,\"buzzer/wireless intercom\",heating,\"family/kid friendly\",washer,dryer,\"smoke detector\",\"fire extinguisher\",essentials,shampoo,\"24-hour check-in\",hangers,\"hair dryer\",iron,\"laptop friendly workspace\",\"self check-in\",lockbox,\"hot water\",\"bed linens\",microwave,\"coffee maker\",refrigerator,\"dishes and silverware\",\"cooking basics\",stove,\"long term stays allowed\"}   \n",
       "\n",
       "       accommodates  bathrooms  bed_type  bedrooms  beds  \\\n",
       "39057             2        1.0  real bed       0.0   0.0   \n",
       "\n",
       "                                                                                                                                                                                                                                                                                                                                                                                                                                                                                                                                                                                                                                                                                                                                                                                                                                                                                                                                                                                                                                   description  \\\n",
       "39057  this posh studio has sleek hardwood floors, a large open-concept kitchen, and incredible architectural details. located in back bay, a short walk to fashionable shops, river-side walkways, and excellent restaurants. every booking is instantly confirmed. every call or message is answered within minutes. every home is equipped with crisp linens, high-speed wi-fi, and kitchen and bath essentials—everything you need for an exceptional stay. our concierge is available by phone, email, or messenger 24/7. don’t hesitate to contact us if you need anything, from extra towels to restaurant recommendations. otherwise, we’ll leave you to enjoy your stay. right downstairs you’ll find newbury street bustling with high end boutiques and restaurants. just a block away, take a stroll on the commonwealth ave mall straight to the public gardens and boston common. boston’s back bay is known for its lovely rows of victorian houses, river-side walkways, fashionable shops, and excellent restaurants. parking   \n",
       "\n",
       "       log_price  \n",
       "39057   4.691348  "
      ]
     },
     "execution_count": 49,
     "metadata": {},
     "output_type": "execute_result"
    }
   ],
   "source": [
    "# Dataframe of columns with no beds\n",
    "no_beds = df[df[\"beds\"]==0.0]\n",
    "no_beds.head()"
   ]
  },
  {
   "cell_type": "code",
   "execution_count": 50,
   "id": "176c0a96-488f-4331-a33f-fd02fb160d96",
   "metadata": {},
   "outputs": [
    {
     "data": {
      "text/plain": [
       "<Figure size 1200x600 with 0 Axes>"
      ]
     },
     "metadata": {},
     "output_type": "display_data"
    },
    {
     "data": {
      "image/png": "[encoded data removed]",
      "text/plain": [
       "<Figure size 500x500 with 1 Axes>"
      ]
     },
     "metadata": {},
     "output_type": "display_data"
    }
   ],
   "source": [
    "# Setting the size of the plot \n",
    "plt.figure(figsize=(12,6))\n",
    "\n",
    "# Checking the distribution on bathrooms\n",
    "sns.displot(data=df,x=\"beds\", kind=\"kde\")\n",
    "\n",
    "# Adding title\n",
    "plt.title(\"Beds distribution\")\n",
    "\n",
    "plt.show()"
   ]
  },
  {
   "cell_type": "code",
   "execution_count": 51,
   "id": "8b177b06-f66f-44dd-9147-7a428abe6e7c",
   "metadata": {},
   "outputs": [],
   "source": [
    "# Filling beds missing values using median\n",
    "df['beds'] = df['beds'].fillna(df[\"beds\"].median())"
   ]
  },
  {
   "cell_type": "code",
   "execution_count": 52,
   "id": "d5190bd3-b9eb-43be-ab7f-44e02415b7b4",
   "metadata": {},
   "outputs": [],
   "source": [
    "# Rounding the beds column to the nearest whole number and converting it to int\n",
    "df['beds'] = df['beds'].round().astype('int64')"
   ]
  },
  {
   "cell_type": "markdown",
   "id": "56ef69e8-b930-40dd-a935-e6501cf3d7a8",
   "metadata": {},
   "source": [
    "##### Handling missing values in `bedrooms` column"
   ]
  },
  {
   "cell_type": "code",
   "execution_count": 54,
   "id": "5126184d-6bee-423f-bbf5-e59ed4696775",
   "metadata": {},
   "outputs": [
    {
     "data": {
      "text/plain": [
       "bedrooms\n",
       "1.0     49784\n",
       "2.0     11351\n",
       "0.0      6715\n",
       "3.0      4309\n",
       "4.0      1330\n",
       "5.0       355\n",
       "6.0       106\n",
       "7.0        38\n",
       "8.0        14\n",
       "10.0       10\n",
       "9.0         8\n",
       "Name: count, dtype: int64"
      ]
     },
     "execution_count": 54,
     "metadata": {},
     "output_type": "execute_result"
    }
   ],
   "source": [
    "# Getting the value counts of bedrooms    \n",
    "df.bedrooms.value_counts()"
   ]
  },
  {
   "cell_type": "code",
   "execution_count": 55,
   "id": "70b92bbd-d7e4-44fa-93d4-cd35379ff0af",
   "metadata": {},
   "outputs": [],
   "source": [
    "# Bedroom keyword mapping\n",
    "bedroom_keywords = {'one bedroom': 1, 'two bedrooms': 2, 'three bedrooms': 3,\n",
    "                    'four bedrooms': 4, 'five bedrooms': 5, 'six bedrooms': 6,\n",
    "                    'single bedroom': 1, 'double bedroom': 1, 'master bedroom': 1,\n",
    "                    'studio': 1, 'loft': 1, 'private room': 1, 'shared room': 1,\n",
    "                    '1.5 bedrooms': 1.5, '2.5 bedrooms': 2.5, '3.5 bedrooms': 3.5,\n",
    "                    '4.5 bedrooms': 4.5, '5.5 bedrooms': 5.5}\n",
    "\n",
    "# Function to update bedroom column due to inconsistency \n",
    "def update_bedroom_count(row):\n",
    "    if row['bedrooms'] == 0:  \n",
    "        description = row['description'].lower()\n",
    "        for key, value in bedroom_keywords.items():\n",
    "            if key in description:\n",
    "                return value  \n",
    "        if 'bedroom' in description or 'bedrooms' in description: \n",
    "            return 1  \n",
    "    return row['bedrooms']\n",
    "\n",
    "# Apply function\n",
    "df['bedrooms'] = df.apply(update_bedroom_count, axis=1)"
   ]
  },
  {
   "cell_type": "code",
   "execution_count": 56,
   "id": "73d904e1-0e0c-43d0-b91f-0353c75bb472",
   "metadata": {},
   "outputs": [
    {
     "data": {
      "text/plain": [
       "bedrooms\n",
       "1.0     54620\n",
       "2.0     11353\n",
       "3.0      4309\n",
       "0.0      1877\n",
       "4.0      1330\n",
       "5.0       355\n",
       "6.0       106\n",
       "7.0        38\n",
       "8.0        14\n",
       "10.0       10\n",
       "9.0         8\n",
       "Name: count, dtype: int64"
      ]
     },
     "execution_count": 56,
     "metadata": {},
     "output_type": "execute_result"
    }
   ],
   "source": [
    "# Getting the value counts of bedrooms    \n",
    "df.bedrooms.value_counts()"
   ]
  },
  {
   "cell_type": "code",
   "execution_count": 57,
   "id": "5a053087-b366-4462-bf0c-22e314751f22",
   "metadata": {},
   "outputs": [
    {
     "data": {
      "text/html": [
       "<div>\n",
       "<style scoped>\n",
       "    .dataframe tbody tr th:only-of-type {\n",
       "        vertical-align: middle;\n",
       "    }\n",
       "\n",
       "    .dataframe tbody tr th {\n",
       "        vertical-align: top;\n",
       "    }\n",
       "\n",
       "    .dataframe thead th {\n",
       "        text-align: right;\n",
       "    }\n",
       "</style>\n",
       "<table border=\"1\" class=\"dataframe\">\n",
       "  <thead>\n",
       "    <tr style=\"text-align: right;\">\n",
       "      <th></th>\n",
       "      <th>id</th>\n",
       "      <th>name</th>\n",
       "      <th>city</th>\n",
       "      <th>property_type</th>\n",
       "      <th>room_type</th>\n",
       "      <th>amenities</th>\n",
       "      <th>accommodates</th>\n",
       "      <th>bathrooms</th>\n",
       "      <th>bed_type</th>\n",
       "      <th>bedrooms</th>\n",
       "      <th>beds</th>\n",
       "      <th>description</th>\n",
       "      <th>log_price</th>\n",
       "    </tr>\n",
       "  </thead>\n",
       "  <tbody>\n",
       "    <tr>\n",
       "      <th>55</th>\n",
       "      <td>6443678</td>\n",
       "      <td>sunny studio in doorman building</td>\n",
       "      <td>new york city</td>\n",
       "      <td>apartment</td>\n",
       "      <td>entire home/apt</td>\n",
       "      <td>{tv,\"cable tv\",internet,\"wireless internet\",\"air conditioning\",kitchen,doorman,elevator,\"buzzer/wireless intercom\",heating,\"family/kid friendly\",washer,dryer,\"smoke detector\",\"carbon monoxide detector\",essentials,\"translation missing: en.hosting_amenity_50\"}</td>\n",
       "      <td>5</td>\n",
       "      <td>1.0</td>\n",
       "      <td>real bed</td>\n",
       "      <td>0.0</td>\n",
       "      <td>2</td>\n",
       "      <td>beautiful, spacious apartment in the heart of harlem. close to restaurants, nightlife and transportation. there's culture, food and nightlife! number 2 and 3 trains to 135th street</td>\n",
       "      <td>4.744932</td>\n",
       "    </tr>\n",
       "    <tr>\n",
       "      <th>98</th>\n",
       "      <td>7226513</td>\n",
       "      <td>cozy and sunny studio in uws manhattan</td>\n",
       "      <td>new york city</td>\n",
       "      <td>apartment</td>\n",
       "      <td>entire home/apt</td>\n",
       "      <td>{\"wireless internet\",kitchen,breakfast,elevator,heating,washer,dryer,\"smoke detector\",\"carbon monoxide detector\",essentials,hangers,\"hair dryer\",\"laptop friendly workspace\",\"translation missing: en.hosting_amenity_49\",\"translation missing: en.hosting_amenity_50\",\"private entrance\",bathtub}</td>\n",
       "      <td>2</td>\n",
       "      <td>1.0</td>\n",
       "      <td>real bed</td>\n",
       "      <td>0.0</td>\n",
       "      <td>1</td>\n",
       "      <td>visiting the city? come stay in my cozy apt in manhattan!!! it's an amazing place to live right in upper west side. quiet and with tons of sunlight. i love the neighborhood, so convenient, close to everything and charming: 1min walk to cool bars and restaurants, 3min to columbia university, 1min to subway, 7min to central park and st.john the divine cathedral is right in my street. also, you can take the subway and get to times sq in 15 min, chelsea in 20, soho in 30, green point in 35... no matter how cold it's outside, the building remains always warm and cozy. super quiet: my neighbors are the best. and sooo sunny the whole year. you'll love waking up here in a sunny morning. only super super tidy and clean guests, professionals, responsible and able to give back the apartment exactly as i'll trust it to them: pristine :) i'll be out of town but you can contact me 24/7 if you need me. i love the neighborhood, so convenient, close to everything and charming: 1min walk to cool bars a</td>\n",
       "      <td>4.804021</td>\n",
       "    </tr>\n",
       "    <tr>\n",
       "      <th>100</th>\n",
       "      <td>14873270</td>\n",
       "      <td>light filled studio apartment</td>\n",
       "      <td>new york city</td>\n",
       "      <td>apartment</td>\n",
       "      <td>entire home/apt</td>\n",
       "      <td>{internet,\"wireless internet\",\"air conditioning\",kitchen,elevator,\"buzzer/wireless intercom\",washer,dryer,essentials,shampoo}</td>\n",
       "      <td>2</td>\n",
       "      <td>1.0</td>\n",
       "      <td>real bed</td>\n",
       "      <td>0.0</td>\n",
       "      <td>1</td>\n",
       "      <td>perfect for a single or a couple. clean and spacious, lots of plants and natural light. fully loaded kitchen. down the block from the cloisters and fort tryon park. block away from a and 1 trains, restaurants, bars and pubs. 1-2 week rental beg. 8/20 lots of light and plants. very colorfully and simply decorated. very comfortable. access to one closet and the entire apartments as well laundry room. if you are taking the apartment for the whole month or summer i will make 2 closets available. all the kitchenware is also at your disposal and spices or condiments in the pantry and fridge. if guests arrive prior to 2 pm i will be here to greet guests and answer any questions. i can come (as requested) on a weekly basis to water plants and manage any household issues if they come up. i am available by phone and can come to the apt. or contact the super if anything is needed. great neighborhood. everything it at arms reach. great nightlife, food, parks, culture, markets, pharmacies. (ur</td>\n",
       "      <td>4.174387</td>\n",
       "    </tr>\n",
       "  </tbody>\n",
       "</table>\n",
       "</div>"
      ],
      "text/plain": [
       "           id                                    name           city  \\\n",
       "55    6443678        sunny studio in doorman building  new york city   \n",
       "98    7226513  cozy and sunny studio in uws manhattan  new york city   \n",
       "100  14873270           light filled studio apartment  new york city   \n",
       "\n",
       "    property_type        room_type  \\\n",
       "55      apartment  entire home/apt   \n",
       "98      apartment  entire home/apt   \n",
       "100     apartment  entire home/apt   \n",
       "\n",
       "                                                                                                                                                                                                                                                                                              amenities  \\\n",
       "55                                   {tv,\"cable tv\",internet,\"wireless internet\",\"air conditioning\",kitchen,doorman,elevator,\"buzzer/wireless intercom\",heating,\"family/kid friendly\",washer,dryer,\"smoke detector\",\"carbon monoxide detector\",essentials,\"translation missing: en.hosting_amenity_50\"}   \n",
       "98   {\"wireless internet\",kitchen,breakfast,elevator,heating,washer,dryer,\"smoke detector\",\"carbon monoxide detector\",essentials,hangers,\"hair dryer\",\"laptop friendly workspace\",\"translation missing: en.hosting_amenity_49\",\"translation missing: en.hosting_amenity_50\",\"private entrance\",bathtub}   \n",
       "100                                                                                                                                                                       {internet,\"wireless internet\",\"air conditioning\",kitchen,elevator,\"buzzer/wireless intercom\",washer,dryer,essentials,shampoo}   \n",
       "\n",
       "     accommodates  bathrooms  bed_type  bedrooms  beds  \\\n",
       "55              5        1.0  real bed       0.0     2   \n",
       "98              2        1.0  real bed       0.0     1   \n",
       "100             2        1.0  real bed       0.0     1   \n",
       "\n",
       "                                                                                                                                                                                                                                                                                                                                                                                                                                                                                                                                                                                                                                                                                                                                                                                                                                                                                                                                                                                                                                 description  \\\n",
       "55                                                                                                                                                                                                                                                                                                                                                                                                                                                                                                                                                                                                                                                                                                                                                                                                                                                      beautiful, spacious apartment in the heart of harlem. close to restaurants, nightlife and transportation. there's culture, food and nightlife! number 2 and 3 trains to 135th street   \n",
       "98   visiting the city? come stay in my cozy apt in manhattan!!! it's an amazing place to live right in upper west side. quiet and with tons of sunlight. i love the neighborhood, so convenient, close to everything and charming: 1min walk to cool bars and restaurants, 3min to columbia university, 1min to subway, 7min to central park and st.john the divine cathedral is right in my street. also, you can take the subway and get to times sq in 15 min, chelsea in 20, soho in 30, green point in 35... no matter how cold it's outside, the building remains always warm and cozy. super quiet: my neighbors are the best. and sooo sunny the whole year. you'll love waking up here in a sunny morning. only super super tidy and clean guests, professionals, responsible and able to give back the apartment exactly as i'll trust it to them: pristine :) i'll be out of town but you can contact me 24/7 if you need me. i love the neighborhood, so convenient, close to everything and charming: 1min walk to cool bars a   \n",
       "100      perfect for a single or a couple. clean and spacious, lots of plants and natural light. fully loaded kitchen. down the block from the cloisters and fort tryon park. block away from a and 1 trains, restaurants, bars and pubs. 1-2 week rental beg. 8/20 lots of light and plants. very colorfully and simply decorated. very comfortable. access to one closet and the entire apartments as well laundry room. if you are taking the apartment for the whole month or summer i will make 2 closets available. all the kitchenware is also at your disposal and spices or condiments in the pantry and fridge. if guests arrive prior to 2 pm i will be here to greet guests and answer any questions. i can come (as requested) on a weekly basis to water plants and manage any household issues if they come up. i am available by phone and can come to the apt. or contact the super if anything is needed. great neighborhood. everything it at arms reach. great nightlife, food, parks, culture, markets, pharmacies. (ur   \n",
       "\n",
       "     log_price  \n",
       "55    4.744932  \n",
       "98    4.804021  \n",
       "100   4.174387  "
      ]
     },
     "execution_count": 57,
     "metadata": {},
     "output_type": "execute_result"
    }
   ],
   "source": [
    "# Dataframe of columns with no bedrooms\n",
    "no_bedrooms = df[df[\"bedrooms\"] ==0.0]\n",
    "no_bedrooms.head(3)"
   ]
  },
  {
   "cell_type": "code",
   "execution_count": 58,
   "id": "d36502ec-2606-4638-b7a9-617212f86186",
   "metadata": {},
   "outputs": [
    {
     "data": {
      "text/plain": [
       "<Figure size 1200x600 with 0 Axes>"
      ]
     },
     "metadata": {},
     "output_type": "display_data"
    },
    {
     "data": {
      "image/png": "[encoded data removed]",
      "text/plain": [
       "<Figure size 500x500 with 1 Axes>"
      ]
     },
     "metadata": {},
     "output_type": "display_data"
    }
   ],
   "source": [
    "# Setting the size of the plot \n",
    "plt.figure(figsize=(12,6))\n",
    "\n",
    "# Checking the distribution on bedrooms\n",
    "sns.displot(data=df,x=\"bedrooms\", kind=\"kde\")\n",
    "\n",
    "# Adding title\n",
    "plt.title(\"Bedrooms Distribution\")\n",
    "\n",
    "plt.show()"
   ]
  },
  {
   "cell_type": "code",
   "execution_count": 59,
   "id": "e99387d5-9068-44ab-82ba-228d703b5c1d",
   "metadata": {},
   "outputs": [],
   "source": [
    "# Filling bedrooms missing values using median\n",
    "df['bedrooms'] = df['bedrooms'].fillna(df[\"bedrooms\"].median())"
   ]
  },
  {
   "cell_type": "code",
   "execution_count": 60,
   "id": "7c3b485d-3a6f-4e14-8972-00e3650da99f",
   "metadata": {},
   "outputs": [
    {
     "data": {
      "text/plain": [
       "False"
      ]
     },
     "execution_count": 60,
     "metadata": {},
     "output_type": "execute_result"
    }
   ],
   "source": [
    "# Confirming if all the missing values have successfully been imputed\n",
    "df.isna().any().any()"
   ]
  },
  {
   "cell_type": "code",
   "execution_count": 61,
   "id": "6501e53a-5192-4513-90f5-5be9c19eef2e",
   "metadata": {},
   "outputs": [],
   "source": [
    "# Converting log_price to actual price\n",
    "df['price'] = np.exp(df['log_price'])\n",
    "df = df.drop(\"log_price\",axis=1)"
   ]
  },
  {
   "cell_type": "markdown",
   "id": "165c194c-7792-4ff4-a2f9-06dbf50f8240",
   "metadata": {},
   "source": [
    "#### Checking for and handling Missing valuessuplicate values"
   ]
  },
  {
   "cell_type": "code",
   "execution_count": 63,
   "id": "6c770f52-889f-4307-ad65-2efc13e199b8",
   "metadata": {},
   "outputs": [
    {
     "data": {
      "text/plain": [
       "0"
      ]
     },
     "execution_count": 63,
     "metadata": {},
     "output_type": "execute_result"
    }
   ],
   "source": [
    "# Checking for duplicate values\n",
    "df.duplicated().sum()"
   ]
  },
  {
   "cell_type": "markdown",
   "id": "1372db54-ff78-40b6-8908-bb1dd62725a5",
   "metadata": {},
   "source": [
    "##### Type casting invalid data formats to correct formats\n"
   ]
  },
  {
   "cell_type": "code",
   "execution_count": 65,
   "id": "3fba3ff4-c2c4-4474-85fb-8422b95e06fd",
   "metadata": {},
   "outputs": [],
   "source": [
    "# Converting id column to an object data type\n",
    "df[\"id\"] = df[\"id\"].astype(\"object\")"
   ]
  },
  {
   "cell_type": "code",
   "execution_count": 66,
   "id": "de8f681a-22f6-4ea9-928d-e4bbfb945fc7",
   "metadata": {},
   "outputs": [
    {
     "data": {
      "text/plain": [
       "dtype('O')"
      ]
     },
     "execution_count": 66,
     "metadata": {},
     "output_type": "execute_result"
    }
   ],
   "source": [
    "df[\"id\"].dtype"
   ]
  },
  {
   "cell_type": "code",
   "execution_count": 67,
   "id": "0a308753-dc66-4bc9-a951-988a3d3d93c9",
   "metadata": {},
   "outputs": [],
   "source": [
    "df = df.reset_index(drop=True)  "
   ]
  },
  {
   "cell_type": "code",
   "execution_count": 68,
   "id": "6c4c6db3-4283-48d8-aae6-55315141b5b4",
   "metadata": {},
   "outputs": [],
   "source": [
    "# # Cleaning amenities column\n",
    "# df[\"amenities\"] = df[\"amenities\"].map(lambda x: re.sub(r'[{}\",/:._-]', ' ', x))\n",
    "# df[\"amenities\"] = df[\"amenities\"].map(lambda x: re.sub(r'\\s+', ' ', x).strip().lower())"
   ]
  },
  {
   "cell_type": "code",
   "execution_count": 69,
   "id": "f26aafde-e3b5-47ed-a4ad-91e17ecdb994",
   "metadata": {},
   "outputs": [],
   "source": [
    "# # Cleaning description column\n",
    "# df[\"description\"] = df[\"description\"].map(lambda x: re.sub(r'[^\\w\\s]', ' ', x))\n",
    "# df[\"description\"] = df[\"description\"].map(lambda x: re.sub(r'\\s+', ' ', x).strip().lower())"
   ]
  },
  {
   "cell_type": "markdown",
   "id": "50e41229-9658-41f1-9ec7-46d1c03322ec",
   "metadata": {},
   "source": [
    "# FEATURE ENGINEERING"
   ]
  },
  {
   "cell_type": "code",
   "execution_count": 71,
   "id": "f897fd3c-7ac6-43ef-8779-337aef9a9b90",
   "metadata": {},
   "outputs": [],
   "source": [
    "# Setting seed for consistent language detection\n",
    "DetectorFactory.seed = 42\n",
    "\n",
    "# loading the English language model in spaCy\n",
    "nlp = spacy.load('en_core_web_sm', disable=[\"parser\", \"ner\"])\n",
    "\n",
    "# Function for detecting if language used is english\n",
    "def detect_language(text):\n",
    "    try:\n",
    "        return \"en\" if detect(text) == \"en\" else None\n",
    "    except:\n",
    "        return None \n",
    "\n",
    "# Function for preprocessing text\n",
    "def preprocess_text(text):\n",
    "    \n",
    "    # Skipping non-English words and missing text\n",
    "    if pd.isna(text) or detect_language(text) is None:\n",
    "        return \"\"\n",
    "    \n",
    "    # Parsing the text with spaCy\n",
    "    doc = nlp(text)\n",
    "    \n",
    "    # Lemmatizing the tokens and removing non alphabetic tokens \n",
    "    lemmas = [token.lemma_.lower() for token in doc if token.is_alpha]\n",
    "    \n",
    "    # Joining the lemmas back into a string and returning it\n",
    "    return \" \".join(lemmas)"
   ]
  },
  {
   "cell_type": "code",
   "execution_count": 72,
   "id": "12c47b24-e945-4d96-91b7-ff107622f049",
   "metadata": {},
   "outputs": [],
   "source": [
    "# applying the preprocess_text function to the text column\n",
    "df[\"amenities\"] = [preprocess_text(text) for text in df[\"amenities\"]]\n",
    "df[\"description\"] = [preprocess_text(text) for text in df[\"description\"]]\n",
    "df[\"name\"] = [preprocess_text(text) for text in df[\"name\"]]"
   ]
  },
  {
   "cell_type": "code",
   "execution_count": 73,
   "id": "859abb49-ab19-4ec9-a297-5b952193b786",
   "metadata": {},
   "outputs": [
    {
     "data": {
      "image/jpeg": "[encoded data removed]",
      "image/png": "[encoded data removed]",
      "text/plain": [
       "<PIL.Image.Image image mode=RGB size=400x200>"
      ]
     },
     "execution_count": 73,
     "metadata": {},
     "output_type": "execute_result"
    }
   ],
   "source": [
    "# Joining the different processed titles together.\n",
    "long_string = ' '.join(df['amenities'])\n",
    "\n",
    "# Creating a WordCloud object\n",
    "wordcloud = WordCloud()\n",
    "\n",
    "# Generating a word cloud\n",
    "wordcloud.generate(long_string)\n",
    "\n",
    "# Visualizing the word cloud\n",
    "wordcloud.to_image()"
   ]
  },
  {
   "cell_type": "code",
   "execution_count": 74,
   "id": "0d327035-ccd7-41bb-b06a-55ab22088fa5",
   "metadata": {},
   "outputs": [
    {
     "data": {
      "image/jpeg": "[encoded data removed]",
      "image/png": "[encoded data removed]",
      "text/plain": [
       "<PIL.Image.Image image mode=RGB size=400x200>"
      ]
     },
     "execution_count": 74,
     "metadata": {},
     "output_type": "execute_result"
    }
   ],
   "source": [
    "# Joining the different processed titles together.\n",
    "long_string = ' '.join(df['description'])\n",
    "\n",
    "# Creating a WordCloud object\n",
    "wordcloud = WordCloud()\n",
    "\n",
    "# Generating a word cloud\n",
    "wordcloud.generate(long_string)\n",
    "\n",
    "# Visualizing the word cloud\n",
    "wordcloud.to_image()"
   ]
  },
  {
   "cell_type": "code",
   "execution_count": 75,
   "id": "1aec16d2-ad37-49e7-8f00-7cb2521e6247",
   "metadata": {},
   "outputs": [
    {
     "data": {
      "text/plain": [
       "'beautiful sunlit brownstone bedroom in the lovely neighborhood in brooklyn block from the promenade and brooklyn bridge park with their stunning view of manhattan and from the great shopping and food'"
      ]
     },
     "execution_count": 75,
     "metadata": {},
     "output_type": "execute_result"
    }
   ],
   "source": [
    "df[\"description\"][0]"
   ]
  },
  {
   "cell_type": "code",
   "execution_count": 76,
   "id": "6ac73171-b0fc-4c19-914c-2f0f67ddf675",
   "metadata": {},
   "outputs": [
    {
     "data": {
      "text/plain": [
       "'wireless kid miss'"
      ]
     },
     "execution_count": 76,
     "metadata": {},
     "output_type": "execute_result"
    }
   ],
   "source": [
    "df[\"amenities\"][0]"
   ]
  },
  {
   "cell_type": "code",
   "execution_count": 77,
   "id": "576d6913-a6f3-4aab-8e12-108dd891c9bb",
   "metadata": {},
   "outputs": [],
   "source": [
    "# Combining the text features into one feature\n",
    "df[\"description_amenities\"] = df[\"description\"] + \" \" + df[\"amenities\"] + \" \" + df[\"name\"]"
   ]
  },
  {
   "cell_type": "code",
   "execution_count": 78,
   "id": "f2422e68-ab48-4f52-9a29-bd34d056dd42",
   "metadata": {},
   "outputs": [
    {
     "data": {
      "text/plain": [
       "'beautiful sunlit brownstone bedroom in the lovely neighborhood in brooklyn block from the promenade and brooklyn bridge park with their stunning view of manhattan and from the great shopping and food wireless kid miss'"
      ]
     },
     "execution_count": 78,
     "metadata": {},
     "output_type": "execute_result"
    }
   ],
   "source": [
    "df[\"description_amenities\"][0]"
   ]
  },
  {
   "cell_type": "markdown",
   "id": "1961820d-4761-4920-a28b-10985f34eb88",
   "metadata": {},
   "source": [
    "## SIMILARITY CHECK WITHOUT STOPWORDS"
   ]
  },
  {
   "cell_type": "code",
   "execution_count": 80,
   "id": "19b84efe-5735-492e-865d-9cf3abda5b19",
   "metadata": {},
   "outputs": [],
   "source": [
    "# TF-IDF vectorization\n",
    "# Creating an instance of the vectorizer\n",
    "tfidf_without_stopwords = TfidfVectorizer(stop_words='english')\n",
    "\n",
    "# Fit transforming the combined text features\n",
    "tfidf_matrix_without_stopwords = tfidf_without_stopwords.fit_transform(df[\"description_amenities\"])"
   ]
  },
  {
   "cell_type": "code",
   "execution_count": 81,
   "id": "9ae2012a-2854-4976-a2b8-45bb3b7ed123",
   "metadata": {},
   "outputs": [],
   "source": [
    "# Function to get recommendations based on user input\n",
    "def get_recommendations_from_input(user_input, price_range=None, top_n=5):\n",
    "    # Transforming the user input into TF-IDF vector\n",
    "    user_input_vector = tfidf_without_stopwords.transform([user_input])\n",
    "    \n",
    "    # Computing cosine similarity between user input and all listings\n",
    "    cosine_sim = cosine_similarity(user_input_vector, tfidf_matrix_without_stopwords)\n",
    "    \n",
    "    # Getting the indices of the top N most similar listings\n",
    "    sim_scores = list(enumerate(cosine_sim[0]))\n",
    "    sim_scores = sorted(sim_scores, key=lambda x: x[1], reverse=True)\n",
    "    listing_indices = [i[0] for i in sim_scores[:top_n]]\n",
    "    \n",
    "    # Filtering by price range if required\n",
    "    if price_range:\n",
    "        min_price, max_price = price_range\n",
    "        recommendations = df.iloc[listing_indices][(df['price'] >= min_price) & (df['price'] <= max_price)]\n",
    "    else:\n",
    "        recommendations = df.iloc[listing_indices]\n",
    "    \n",
    "    return  recommendations[['name', 'price','description','amenities']]"
   ]
  },
  {
   "cell_type": "code",
   "execution_count": 82,
   "id": "00ba4984-9e9c-4273-a005-c16cf3edeb4c",
   "metadata": {},
   "outputs": [
    {
     "name": "stdout",
     "output_type": "stream",
     "text": [
      "                                           name  price  \\\n",
      "26412         newly renovated coastal beach pad  150.0   \n",
      "17835  charming beach home close to everything!  425.0   \n",
      "61389                       condo in long beach  230.0   \n",
      "40751         cozy apartment - 1 block to beach  109.0   \n",
      "63182             walking distance to the beach   50.0   \n",
      "\n",
      "                                                                                                                                                                                                                                                                                                                                                                                                                                                                                                                                                                                                                                                                                                                                                                   description  \\\n",
      "26412  brand newly renovate beach apartment with new floor lighting paint and new furniture etc it be step from the beach and minute walk to venice pier this beach pad be the perfect place for people visit la for work pleasure solo with fam or significant other the beach private beach access with volleyball court beach sand bike path quiet beach and about a minute walk along the beach to the venice pier there you find shop restaurant starbuck cafe bar and bike rental shop it be the good area in la soak in the cali beach life street parking step to beach minute walk to venice pier shop and restaurant minute walk to venice canal bike all beach beach towel and bath towel provide ground floor note the kitchen be a kitchenette not a full kitchen   \n",
      "17835                                                                                                                                                                                                                                                                                                                                                                                                                                                                                                                                               bedroom bath cozy home near the beach quiet residential area walk distance to the beach shop restaurant backyard be a quiet retreat in itself the house come with beach cruiser bike beach chair and plenty of beach chair   \n",
      "61389                                                                                                                                                                                                                                                                                                                                                                                                                                                                                                                                                                                                                                                                                                     beautiful condo in long beach next to amenity much more beach living   \n",
      "40751     cute and cozy apartment with outdoor patio just step from the strand the beach and the restaurant of north manhattan beach this apartment be small but have everything you need include parking for your stay in manhattan beach north manhattan beach also know as el porto be one the good local beach for surf half a block away you will find restaurant and bar convenience store yoga studio and other amenity locate minute from lax once you be in manhattan beach you can get around without a car easily by walk on the strand to downtown manhattan beach or by take a quick uber ride to other beach town like hermosa or redondo beach this apartment be only available for long stay no nightly rental please contact i if you be interested thank you   \n",
      "63182                                                                                                                                                                                                                                                                                                                                                                                                                                                                                                                                                                                                                                                                                                                       my place be close to beach and downtown long beach   \n",
      "\n",
      "                                                  amenities  \n",
      "26412                            kid monoxide shampoo check  \n",
      "17835  parking on live on this kid monoxide shampoo missing  \n",
      "61389                                                        \n",
      "40751                                  parking on kid dryer  \n",
      "63182           washer essential shampoo friendly miss miss  \n"
     ]
    }
   ],
   "source": [
    "# Getting recommendations\n",
    "user_input = \"beach\"\n",
    "price_range = (50, 200)\n",
    "recommendations = get_recommendations_from_input(user_input)\n",
    "recommendations"
   ]
  },
  {
   "cell_type": "markdown",
   "id": "716ca4a9-5095-4f90-9c26-34fcb6ee59e4",
   "metadata": {},
   "source": [
    "## SIMILARITY CHECK WITH STOPWORDS"
   ]
  },
  {
   "cell_type": "code",
   "execution_count": 84,
   "id": "e78d3473-b6f6-4c82-951f-3168a13fbece",
   "metadata": {},
   "outputs": [],
   "source": [
    "# TF-IDF vectorization\n",
    "# Creating an instance of the vectorizer\n",
    "tfidf_with_stopwords = TfidfVectorizer(stop_words=None)\n",
    "\n",
    "# Fit transforming the combined text features\n",
    "tfidf_matrix_with_stopwords = tfidf_with_stopwords.fit_transform(df[\"description_amenities\"])"
   ]
  },
  {
   "cell_type": "code",
   "execution_count": 85,
   "id": "738be219-5712-4b8d-8443-32f933d5c57d",
   "metadata": {},
   "outputs": [],
   "source": [
    "# Function to get recommendations based on user input\n",
    "def get_recommendations_from_input(user_input, price_range=None, top_n=5):\n",
    "    # Transforming the user input into TF-IDF vector\n",
    "    user_input_vector = tfidf_with_stopwords.transform([user_input])\n",
    "    \n",
    "    # Computing cosine similarity between user input and all listings\n",
    "    cosine_sim = cosine_similarity(user_input_vector, tfidf_matrix_with_stopwords)\n",
    "    \n",
    "    # Getting the indices of the top N most similar listings\n",
    "    sim_scores = list(enumerate(cosine_sim[0]))\n",
    "    sim_scores = sorted(sim_scores, key=lambda x: x[1], reverse=True)\n",
    "    listing_indices = [i[0] for i in sim_scores[:top_n]]\n",
    "    \n",
    "    # Filtering by price range if required\n",
    "    if price_range:\n",
    "        min_price, max_price = price_range\n",
    "        recommendations = df.iloc[listing_indices][(df['price'] >= min_price) & (df['price'] <= max_price)]\n",
    "    else:\n",
    "        recommendations = df.iloc[listing_indices]\n",
    "    \n",
    "    return recommendations[['name', 'price','description','amenities']]"
   ]
  },
  {
   "cell_type": "code",
   "execution_count": 100,
   "id": "ebbbbf4b-db76-4368-859c-60058cd9e895",
   "metadata": {},
   "outputs": [
    {
     "data": {
      "text/html": [
       "<div>\n",
       "<style scoped>\n",
       "    .dataframe tbody tr th:only-of-type {\n",
       "        vertical-align: middle;\n",
       "    }\n",
       "\n",
       "    .dataframe tbody tr th {\n",
       "        vertical-align: top;\n",
       "    }\n",
       "\n",
       "    .dataframe thead th {\n",
       "        text-align: right;\n",
       "    }\n",
       "</style>\n",
       "<table border=\"1\" class=\"dataframe\">\n",
       "  <thead>\n",
       "    <tr style=\"text-align: right;\">\n",
       "      <th></th>\n",
       "      <th>name</th>\n",
       "      <th>price</th>\n",
       "      <th>description</th>\n",
       "      <th>amenities</th>\n",
       "    </tr>\n",
       "  </thead>\n",
       "  <tbody>\n",
       "    <tr>\n",
       "      <th>5015</th>\n",
       "      <td>urban osasis in heart of brooklyn</td>\n",
       "      <td>75.0</td>\n",
       "      <td>oasis in bushwick brooklyn</td>\n",
       "      <td>wireless parking on monoxide aid shampoo friendly living room</td>\n",
       "    </tr>\n",
       "    <tr>\n",
       "      <th>49731</th>\n",
       "      <td>gc bushwick oasis bedroom</td>\n",
       "      <td>70.0</td>\n",
       "      <td>the garden common be my newly renovate floor bedroom bushwick apartment this listing be for the rental of the oasis bedroom with a full size bed garden view ground floor be share and there be garden access to enjoy communally every hundred foot the world change roberto bolaño the oasis bedroom have a comfortable full size bed desk spacious closet garden view the garden commons be available as an entire flat rental first floor rental or private individual room rental situate on a friendly tree line street this heritage building be a stone throw from park and shopping the space feature an expansive two floor layout with hardwood floor on the fist floor modern tile on the ground floor there be also garden access to enjoy communally with your group other traveler bedroom be bright common room be spacious kitchen be well equipped with amenity and there be communal bathroom the apartment include wi fi while this be a new listin</td>\n",
       "      <td>aid friendly workspace</td>\n",
       "    </tr>\n",
       "    <tr>\n",
       "      <th>38395</th>\n",
       "      <td>park slope garden apartment</td>\n",
       "      <td>105.0</td>\n",
       "      <td>return from a busy day of sight seeing or work to a peaceful and serene oasis this newly renovate garden level studio apartment welcome you home with a spacious and open floor plan note that a bedroom bedroom be also available for rent the space it a modern space with a beautiful kitchen contain new stainless steel stove microwave and fridge tile floor separate bathroom open floor plan with define dining area sofa full size bed desk and plenty of storage area the garden be available for your daily use make it your oasis the neighborhood good of all the subway be block away and provide quick access to manhattan this south park slope neighborhood be dynamic and exciting restaurant cafe shopping be in the immediate area as well as block away on and avenue prospect park the brooklyn museum of art and brooklyn botanical garden be a short walk away</td>\n",
       "      <td>monoxide extinguisher</td>\n",
       "    </tr>\n",
       "    <tr>\n",
       "      <th>61673</th>\n",
       "      <td>designer bungalow with urban oasis</td>\n",
       "      <td>180.0</td>\n",
       "      <td>a modern bungalow with native garden perfect for a couple bright and open live space with garden and hillside view an urban oasis on a quiet street and locate between silver lake highland park hollywood and downtown la bright and airy open floor plan bungalow from with modern interior design ft ceiling and x ft clerestory slide window opening to a lush garden provide a great daylight the house be set high up from the street and offer view of the neighborhood hill give you even a glimpse of the griffith park observatory we have incorporate salvage material throughout and choose sustainable feature such as energy efficient appliance as well as water and air filter for the whole house with over sq ft of garden space this house feel more like an urban oasis native california bush smell divine in the early morning and you can enjoy an evening glow of the set sun while relax in the upper garden hammock butterfly bee and hum</td>\n",
       "      <td>parking on live on this washer aid hour check miss miss</td>\n",
       "    </tr>\n",
       "    <tr>\n",
       "      <th>61611</th>\n",
       "      <td>perfect studio facing quiet garden - east village</td>\n",
       "      <td>125.0</td>\n",
       "      <td>locate in the heart of the east village my studio face the garden so you truly feel on an oasis you love my place because of the location and the ambiance convenient just one floor walk up my place be good for couple solo adventurer and business traveler in the heart of east village this quiet studio face a beautiful garden next to amazing restaurant bar coffee shop and juice bar easy to get anywhere</td>\n",
       "      <td>wireless monoxide aid on bedroom friendly missing miss</td>\n",
       "    </tr>\n",
       "  </tbody>\n",
       "</table>\n",
       "</div>"
      ],
      "text/plain": [
       "                                                    name  price  \\\n",
       "5015                   urban osasis in heart of brooklyn   75.0   \n",
       "49731                          gc bushwick oasis bedroom   70.0   \n",
       "38395                        park slope garden apartment  105.0   \n",
       "61673                 designer bungalow with urban oasis  180.0   \n",
       "61611  perfect studio facing quiet garden - east village  125.0   \n",
       "\n",
       "                                                                                                                                                                                                                                                                                                                                                                                                                                                                                                                                                                                                                                                                                                                                                                                                                                                                                                                                                                   description  \\\n",
       "5015                                                                                                                                                                                                                                                                                                                                                                                                                                                                                                                                                                                                                                                                                                                                                                                                                                                                                                                                                oasis in bushwick brooklyn   \n",
       "49731  the garden common be my newly renovate floor bedroom bushwick apartment this listing be for the rental of the oasis bedroom with a full size bed garden view ground floor be share and there be garden access to enjoy communally every hundred foot the world change roberto bolaño the oasis bedroom have a comfortable full size bed desk spacious closet garden view the garden commons be available as an entire flat rental first floor rental or private individual room rental situate on a friendly tree line street this heritage building be a stone throw from park and shopping the space feature an expansive two floor layout with hardwood floor on the fist floor modern tile on the ground floor there be also garden access to enjoy communally with your group other traveler bedroom be bright common room be spacious kitchen be well equipped with amenity and there be communal bathroom the apartment include wi fi while this be a new listin   \n",
       "38395                                                                                   return from a busy day of sight seeing or work to a peaceful and serene oasis this newly renovate garden level studio apartment welcome you home with a spacious and open floor plan note that a bedroom bedroom be also available for rent the space it a modern space with a beautiful kitchen contain new stainless steel stove microwave and fridge tile floor separate bathroom open floor plan with define dining area sofa full size bed desk and plenty of storage area the garden be available for your daily use make it your oasis the neighborhood good of all the subway be block away and provide quick access to manhattan this south park slope neighborhood be dynamic and exciting restaurant cafe shopping be in the immediate area as well as block away on and avenue prospect park the brooklyn museum of art and brooklyn botanical garden be a short walk away   \n",
       "61673      a modern bungalow with native garden perfect for a couple bright and open live space with garden and hillside view an urban oasis on a quiet street and locate between silver lake highland park hollywood and downtown la bright and airy open floor plan bungalow from with modern interior design ft ceiling and x ft clerestory slide window opening to a lush garden provide a great daylight the house be set high up from the street and offer view of the neighborhood hill give you even a glimpse of the griffith park observatory we have incorporate salvage material throughout and choose sustainable feature such as energy efficient appliance as well as water and air filter for the whole house with over sq ft of garden space this house feel more like an urban oasis native california bush smell divine in the early morning and you can enjoy an evening glow of the set sun while relax in the upper garden hammock butterfly bee and hum   \n",
       "61611                                                                                                                                                                                                                                                                                                                                                                                                                                                                                                                                                      locate in the heart of the east village my studio face the garden so you truly feel on an oasis you love my place because of the location and the ambiance convenient just one floor walk up my place be good for couple solo adventurer and business traveler in the heart of east village this quiet studio face a beautiful garden next to amazing restaurant bar coffee shop and juice bar easy to get anywhere   \n",
       "\n",
       "                                                           amenities  \n",
       "5015   wireless parking on monoxide aid shampoo friendly living room  \n",
       "49731                                         aid friendly workspace  \n",
       "38395                                          monoxide extinguisher  \n",
       "61673        parking on live on this washer aid hour check miss miss  \n",
       "61611         wireless monoxide aid on bedroom friendly missing miss  "
      ]
     },
     "execution_count": 100,
     "metadata": {},
     "output_type": "execute_result"
    }
   ],
   "source": [
    "# Getting recommendations\n",
    "user_input = \"The Garden Oasis\"\n",
    "price_range = (50, 200)\n",
    "recommendations = get_recommendations_from_input(user_input,price_range)\n",
    "recommendations"
   ]
  },
  {
   "cell_type": "markdown",
   "id": "f6ff1eec-2da1-482a-80aa-b8cc7a19183a",
   "metadata": {},
   "source": [
    "## Modeling\n",
    "### Word2Vec "
   ]
  },
  {
   "cell_type": "code",
   "execution_count": 104,
   "id": "88efb894-2998-4a92-878c-dde7abffdb51",
   "metadata": {},
   "outputs": [
    {
     "name": "stdout",
     "output_type": "stream",
     "text": [
      "Requirement already satisfied: scipy in c:\\users\\janen\\anaconda3\\lib\\site-packages (1.13.1)\n",
      "Collecting scipy\n",
      "  Using cached scipy-1.15.2-cp312-cp312-win_amd64.whl.metadata (60 kB)\n",
      "Requirement already satisfied: gensim in c:\\users\\janen\\anaconda3\\lib\\site-packages (4.3.3)\n",
      "Requirement already satisfied: numpy<2.5,>=1.23.5 in c:\\users\\janen\\anaconda3\\lib\\site-packages (from scipy) (1.26.4)\n",
      "Requirement already satisfied: smart-open>=1.8.1 in c:\\users\\janen\\anaconda3\\lib\\site-packages (from gensim) (5.2.1)\n"
     ]
    }
   ],
   "source": [
    "!pip install --upgrade scipy gensim"
   ]
  },
  {
   "cell_type": "code",
   "execution_count": 106,
   "id": "20990fcb-6cf6-48d1-8c93-ad27394802c1",
   "metadata": {},
   "outputs": [
    {
     "ename": "RuntimeError",
     "evalue": "Compiled extensions are unavailable. If you've installed from a package, ask the package maintainer to include compiled extensions. If you're building Gensim from source yourself, install Cython and a C compiler, and then run `python setup.py build_ext --inplace` to retry. ",
     "output_type": "error",
     "traceback": [
      "\u001b[1;31m---------------------------------------------------------------------------\u001b[0m",
      "\u001b[1;31mImportError\u001b[0m                               Traceback (most recent call last)",
      "File \u001b[1;32m~\\anaconda3\\Lib\\site-packages\\gensim\\matutils.py:1356\u001b[0m\n\u001b[0;32m   1355\u001b[0m \u001b[38;5;28;01mtry\u001b[39;00m:\n\u001b[1;32m-> 1356\u001b[0m     \u001b[38;5;28;01mfrom\u001b[39;00m\u001b[38;5;250m \u001b[39m\u001b[38;5;21;01mgensim\u001b[39;00m\u001b[38;5;21;01m.\u001b[39;00m\u001b[38;5;21;01mcorpora\u001b[39;00m\u001b[38;5;21;01m.\u001b[39;00m\u001b[38;5;21;01m_mmreader\u001b[39;00m\u001b[38;5;250m \u001b[39m\u001b[38;5;28;01mimport\u001b[39;00m MmReader  \u001b[38;5;66;03m# noqa: F401\u001b[39;00m\n\u001b[0;32m   1357\u001b[0m \u001b[38;5;28;01mexcept\u001b[39;00m \u001b[38;5;167;01mImportError\u001b[39;00m:\n",
      "File \u001b[1;32m~\\anaconda3\\Lib\\site-packages\\gensim\\corpora\\_mmreader.pyx:11\u001b[0m, in \u001b[0;36minit gensim.corpora._mmreader\u001b[1;34m()\u001b[0m\n",
      "\u001b[1;31mImportError\u001b[0m: cannot import name utils",
      "\nDuring handling of the above exception, another exception occurred:\n",
      "\u001b[1;31mRuntimeError\u001b[0m                              Traceback (most recent call last)",
      "Cell \u001b[1;32mIn[106], line 1\u001b[0m\n\u001b[1;32m----> 1\u001b[0m \u001b[38;5;28;01mfrom\u001b[39;00m\u001b[38;5;250m \u001b[39m\u001b[38;5;21;01mgensim\u001b[39;00m\u001b[38;5;21;01m.\u001b[39;00m\u001b[38;5;21;01mmodels\u001b[39;00m\u001b[38;5;250m \u001b[39m\u001b[38;5;28;01mimport\u001b[39;00m Word2Vec\n",
      "File \u001b[1;32m~\\anaconda3\\Lib\\site-packages\\gensim\\__init__.py:11\u001b[0m\n\u001b[0;32m      7\u001b[0m __version__ \u001b[38;5;241m=\u001b[39m \u001b[38;5;124m'\u001b[39m\u001b[38;5;124m4.3.3\u001b[39m\u001b[38;5;124m'\u001b[39m\n\u001b[0;32m      9\u001b[0m \u001b[38;5;28;01mimport\u001b[39;00m\u001b[38;5;250m \u001b[39m\u001b[38;5;21;01mlogging\u001b[39;00m\n\u001b[1;32m---> 11\u001b[0m \u001b[38;5;28;01mfrom\u001b[39;00m\u001b[38;5;250m \u001b[39m\u001b[38;5;21;01mgensim\u001b[39;00m\u001b[38;5;250m \u001b[39m\u001b[38;5;28;01mimport\u001b[39;00m parsing, corpora, matutils, interfaces, models, similarities, utils  \u001b[38;5;66;03m# noqa:F401\u001b[39;00m\n\u001b[0;32m     14\u001b[0m logger \u001b[38;5;241m=\u001b[39m logging\u001b[38;5;241m.\u001b[39mgetLogger(\u001b[38;5;124m'\u001b[39m\u001b[38;5;124mgensim\u001b[39m\u001b[38;5;124m'\u001b[39m)\n\u001b[0;32m     15\u001b[0m \u001b[38;5;28;01mif\u001b[39;00m \u001b[38;5;129;01mnot\u001b[39;00m logger\u001b[38;5;241m.\u001b[39mhandlers:  \u001b[38;5;66;03m# To ensure reload() doesn't add another one\u001b[39;00m\n",
      "File \u001b[1;32m~\\anaconda3\\Lib\\site-packages\\gensim\\corpora\\__init__.py:6\u001b[0m\n\u001b[0;32m      1\u001b[0m \u001b[38;5;124;03m\"\"\"\u001b[39;00m\n\u001b[0;32m      2\u001b[0m \u001b[38;5;124;03mThis package contains implementations of various streaming corpus I/O format.\u001b[39;00m\n\u001b[0;32m      3\u001b[0m \u001b[38;5;124;03m\"\"\"\u001b[39;00m\n\u001b[0;32m      5\u001b[0m \u001b[38;5;66;03m# bring corpus classes directly into package namespace, to save some typing\u001b[39;00m\n\u001b[1;32m----> 6\u001b[0m \u001b[38;5;28;01mfrom\u001b[39;00m\u001b[38;5;250m \u001b[39m\u001b[38;5;21;01m.\u001b[39;00m\u001b[38;5;21;01mindexedcorpus\u001b[39;00m\u001b[38;5;250m \u001b[39m\u001b[38;5;28;01mimport\u001b[39;00m IndexedCorpus  \u001b[38;5;66;03m# noqa:F401 must appear before the other classes\u001b[39;00m\n\u001b[0;32m      8\u001b[0m \u001b[38;5;28;01mfrom\u001b[39;00m\u001b[38;5;250m \u001b[39m\u001b[38;5;21;01m.\u001b[39;00m\u001b[38;5;21;01mmmcorpus\u001b[39;00m\u001b[38;5;250m \u001b[39m\u001b[38;5;28;01mimport\u001b[39;00m MmCorpus  \u001b[38;5;66;03m# noqa:F401\u001b[39;00m\n\u001b[0;32m      9\u001b[0m \u001b[38;5;28;01mfrom\u001b[39;00m\u001b[38;5;250m \u001b[39m\u001b[38;5;21;01m.\u001b[39;00m\u001b[38;5;21;01mbleicorpus\u001b[39;00m\u001b[38;5;250m \u001b[39m\u001b[38;5;28;01mimport\u001b[39;00m BleiCorpus  \u001b[38;5;66;03m# noqa:F401\u001b[39;00m\n",
      "File \u001b[1;32m~\\anaconda3\\Lib\\site-packages\\gensim\\corpora\\indexedcorpus.py:14\u001b[0m\n\u001b[0;32m     10\u001b[0m \u001b[38;5;28;01mimport\u001b[39;00m\u001b[38;5;250m \u001b[39m\u001b[38;5;21;01mlogging\u001b[39;00m\n\u001b[0;32m     12\u001b[0m \u001b[38;5;28;01mimport\u001b[39;00m\u001b[38;5;250m \u001b[39m\u001b[38;5;21;01mnumpy\u001b[39;00m\n\u001b[1;32m---> 14\u001b[0m \u001b[38;5;28;01mfrom\u001b[39;00m\u001b[38;5;250m \u001b[39m\u001b[38;5;21;01mgensim\u001b[39;00m\u001b[38;5;250m \u001b[39m\u001b[38;5;28;01mimport\u001b[39;00m interfaces, utils\n\u001b[0;32m     16\u001b[0m logger \u001b[38;5;241m=\u001b[39m logging\u001b[38;5;241m.\u001b[39mgetLogger(\u001b[38;5;18m__name__\u001b[39m)\n\u001b[0;32m     19\u001b[0m \u001b[38;5;28;01mclass\u001b[39;00m\u001b[38;5;250m \u001b[39m\u001b[38;5;21;01mIndexedCorpus\u001b[39;00m(interfaces\u001b[38;5;241m.\u001b[39mCorpusABC):\n",
      "File \u001b[1;32m~\\anaconda3\\Lib\\site-packages\\gensim\\interfaces.py:19\u001b[0m\n\u001b[0;32m      7\u001b[0m \u001b[38;5;124;03m\"\"\"Basic interfaces used across the whole Gensim package.\u001b[39;00m\n\u001b[0;32m      8\u001b[0m \n\u001b[0;32m      9\u001b[0m \u001b[38;5;124;03mThese interfaces are used for building corpora, model transformation and similarity queries.\u001b[39;00m\n\u001b[1;32m   (...)\u001b[0m\n\u001b[0;32m     14\u001b[0m \n\u001b[0;32m     15\u001b[0m \u001b[38;5;124;03m\"\"\"\u001b[39;00m\n\u001b[0;32m     17\u001b[0m \u001b[38;5;28;01mimport\u001b[39;00m\u001b[38;5;250m \u001b[39m\u001b[38;5;21;01mlogging\u001b[39;00m\n\u001b[1;32m---> 19\u001b[0m \u001b[38;5;28;01mfrom\u001b[39;00m\u001b[38;5;250m \u001b[39m\u001b[38;5;21;01mgensim\u001b[39;00m\u001b[38;5;250m \u001b[39m\u001b[38;5;28;01mimport\u001b[39;00m utils, matutils\n\u001b[0;32m     22\u001b[0m logger \u001b[38;5;241m=\u001b[39m logging\u001b[38;5;241m.\u001b[39mgetLogger(\u001b[38;5;18m__name__\u001b[39m)\n\u001b[0;32m     25\u001b[0m \u001b[38;5;28;01mclass\u001b[39;00m\u001b[38;5;250m \u001b[39m\u001b[38;5;21;01mCorpusABC\u001b[39;00m(utils\u001b[38;5;241m.\u001b[39mSaveLoad):\n",
      "File \u001b[1;32m~\\anaconda3\\Lib\\site-packages\\gensim\\matutils.py:1358\u001b[0m\n\u001b[0;32m   1356\u001b[0m     \u001b[38;5;28;01mfrom\u001b[39;00m\u001b[38;5;250m \u001b[39m\u001b[38;5;21;01mgensim\u001b[39;00m\u001b[38;5;21;01m.\u001b[39;00m\u001b[38;5;21;01mcorpora\u001b[39;00m\u001b[38;5;21;01m.\u001b[39;00m\u001b[38;5;21;01m_mmreader\u001b[39;00m\u001b[38;5;250m \u001b[39m\u001b[38;5;28;01mimport\u001b[39;00m MmReader  \u001b[38;5;66;03m# noqa: F401\u001b[39;00m\n\u001b[0;32m   1357\u001b[0m \u001b[38;5;28;01mexcept\u001b[39;00m \u001b[38;5;167;01mImportError\u001b[39;00m:\n\u001b[1;32m-> 1358\u001b[0m     \u001b[38;5;28;01mraise\u001b[39;00m utils\u001b[38;5;241m.\u001b[39mNO_CYTHON\n",
      "    \u001b[1;31m[... skipping hidden 1 frame]\u001b[0m\n",
      "Cell \u001b[1;32mIn[106], line 1\u001b[0m\n\u001b[1;32m----> 1\u001b[0m \u001b[38;5;28;01mfrom\u001b[39;00m\u001b[38;5;250m \u001b[39m\u001b[38;5;21;01mgensim\u001b[39;00m\u001b[38;5;21;01m.\u001b[39;00m\u001b[38;5;21;01mmodels\u001b[39;00m\u001b[38;5;250m \u001b[39m\u001b[38;5;28;01mimport\u001b[39;00m Word2Vec\n",
      "File \u001b[1;32m~\\anaconda3\\Lib\\site-packages\\gensim\\__init__.py:11\u001b[0m\n\u001b[0;32m      7\u001b[0m __version__ \u001b[38;5;241m=\u001b[39m \u001b[38;5;124m'\u001b[39m\u001b[38;5;124m4.3.3\u001b[39m\u001b[38;5;124m'\u001b[39m\n\u001b[0;32m      9\u001b[0m \u001b[38;5;28;01mimport\u001b[39;00m\u001b[38;5;250m \u001b[39m\u001b[38;5;21;01mlogging\u001b[39;00m\n\u001b[1;32m---> 11\u001b[0m \u001b[38;5;28;01mfrom\u001b[39;00m\u001b[38;5;250m \u001b[39m\u001b[38;5;21;01mgensim\u001b[39;00m\u001b[38;5;250m \u001b[39m\u001b[38;5;28;01mimport\u001b[39;00m parsing, corpora, matutils, interfaces, models, similarities, utils  \u001b[38;5;66;03m# noqa:F401\u001b[39;00m\n\u001b[0;32m     14\u001b[0m logger \u001b[38;5;241m=\u001b[39m logging\u001b[38;5;241m.\u001b[39mgetLogger(\u001b[38;5;124m'\u001b[39m\u001b[38;5;124mgensim\u001b[39m\u001b[38;5;124m'\u001b[39m)\n\u001b[0;32m     15\u001b[0m \u001b[38;5;28;01mif\u001b[39;00m \u001b[38;5;129;01mnot\u001b[39;00m logger\u001b[38;5;241m.\u001b[39mhandlers:  \u001b[38;5;66;03m# To ensure reload() doesn't add another one\u001b[39;00m\n",
      "File \u001b[1;32m~\\anaconda3\\Lib\\site-packages\\gensim\\corpora\\__init__.py:6\u001b[0m\n\u001b[0;32m      1\u001b[0m \u001b[38;5;124;03m\"\"\"\u001b[39;00m\n\u001b[0;32m      2\u001b[0m \u001b[38;5;124;03mThis package contains implementations of various streaming corpus I/O format.\u001b[39;00m\n\u001b[0;32m      3\u001b[0m \u001b[38;5;124;03m\"\"\"\u001b[39;00m\n\u001b[0;32m      5\u001b[0m \u001b[38;5;66;03m# bring corpus classes directly into package namespace, to save some typing\u001b[39;00m\n\u001b[1;32m----> 6\u001b[0m \u001b[38;5;28;01mfrom\u001b[39;00m\u001b[38;5;250m \u001b[39m\u001b[38;5;21;01m.\u001b[39;00m\u001b[38;5;21;01mindexedcorpus\u001b[39;00m\u001b[38;5;250m \u001b[39m\u001b[38;5;28;01mimport\u001b[39;00m IndexedCorpus  \u001b[38;5;66;03m# noqa:F401 must appear before the other classes\u001b[39;00m\n\u001b[0;32m      8\u001b[0m \u001b[38;5;28;01mfrom\u001b[39;00m\u001b[38;5;250m \u001b[39m\u001b[38;5;21;01m.\u001b[39;00m\u001b[38;5;21;01mmmcorpus\u001b[39;00m\u001b[38;5;250m \u001b[39m\u001b[38;5;28;01mimport\u001b[39;00m MmCorpus  \u001b[38;5;66;03m# noqa:F401\u001b[39;00m\n\u001b[0;32m      9\u001b[0m \u001b[38;5;28;01mfrom\u001b[39;00m\u001b[38;5;250m \u001b[39m\u001b[38;5;21;01m.\u001b[39;00m\u001b[38;5;21;01mbleicorpus\u001b[39;00m\u001b[38;5;250m \u001b[39m\u001b[38;5;28;01mimport\u001b[39;00m BleiCorpus  \u001b[38;5;66;03m# noqa:F401\u001b[39;00m\n",
      "File \u001b[1;32m~\\anaconda3\\Lib\\site-packages\\gensim\\corpora\\indexedcorpus.py:14\u001b[0m\n\u001b[0;32m     10\u001b[0m \u001b[38;5;28;01mimport\u001b[39;00m\u001b[38;5;250m \u001b[39m\u001b[38;5;21;01mlogging\u001b[39;00m\n\u001b[0;32m     12\u001b[0m \u001b[38;5;28;01mimport\u001b[39;00m\u001b[38;5;250m \u001b[39m\u001b[38;5;21;01mnumpy\u001b[39;00m\n\u001b[1;32m---> 14\u001b[0m \u001b[38;5;28;01mfrom\u001b[39;00m\u001b[38;5;250m \u001b[39m\u001b[38;5;21;01mgensim\u001b[39;00m\u001b[38;5;250m \u001b[39m\u001b[38;5;28;01mimport\u001b[39;00m interfaces, utils\n\u001b[0;32m     16\u001b[0m logger \u001b[38;5;241m=\u001b[39m logging\u001b[38;5;241m.\u001b[39mgetLogger(\u001b[38;5;18m__name__\u001b[39m)\n\u001b[0;32m     19\u001b[0m \u001b[38;5;28;01mclass\u001b[39;00m\u001b[38;5;250m \u001b[39m\u001b[38;5;21;01mIndexedCorpus\u001b[39;00m(interfaces\u001b[38;5;241m.\u001b[39mCorpusABC):\n",
      "File \u001b[1;32m~\\anaconda3\\Lib\\site-packages\\gensim\\interfaces.py:19\u001b[0m\n\u001b[0;32m      7\u001b[0m \u001b[38;5;124;03m\"\"\"Basic interfaces used across the whole Gensim package.\u001b[39;00m\n\u001b[0;32m      8\u001b[0m \n\u001b[0;32m      9\u001b[0m \u001b[38;5;124;03mThese interfaces are used for building corpora, model transformation and similarity queries.\u001b[39;00m\n\u001b[1;32m   (...)\u001b[0m\n\u001b[0;32m     14\u001b[0m \n\u001b[0;32m     15\u001b[0m \u001b[38;5;124;03m\"\"\"\u001b[39;00m\n\u001b[0;32m     17\u001b[0m \u001b[38;5;28;01mimport\u001b[39;00m\u001b[38;5;250m \u001b[39m\u001b[38;5;21;01mlogging\u001b[39;00m\n\u001b[1;32m---> 19\u001b[0m \u001b[38;5;28;01mfrom\u001b[39;00m\u001b[38;5;250m \u001b[39m\u001b[38;5;21;01mgensim\u001b[39;00m\u001b[38;5;250m \u001b[39m\u001b[38;5;28;01mimport\u001b[39;00m utils, matutils\n\u001b[0;32m     22\u001b[0m logger \u001b[38;5;241m=\u001b[39m logging\u001b[38;5;241m.\u001b[39mgetLogger(\u001b[38;5;18m__name__\u001b[39m)\n\u001b[0;32m     25\u001b[0m \u001b[38;5;28;01mclass\u001b[39;00m\u001b[38;5;250m \u001b[39m\u001b[38;5;21;01mCorpusABC\u001b[39;00m(utils\u001b[38;5;241m.\u001b[39mSaveLoad):\n",
      "File \u001b[1;32m~\\anaconda3\\Lib\\site-packages\\gensim\\matutils.py:1358\u001b[0m\n\u001b[0;32m   1356\u001b[0m     \u001b[38;5;28;01mfrom\u001b[39;00m\u001b[38;5;250m \u001b[39m\u001b[38;5;21;01mgensim\u001b[39;00m\u001b[38;5;21;01m.\u001b[39;00m\u001b[38;5;21;01mcorpora\u001b[39;00m\u001b[38;5;21;01m.\u001b[39;00m\u001b[38;5;21;01m_mmreader\u001b[39;00m\u001b[38;5;250m \u001b[39m\u001b[38;5;28;01mimport\u001b[39;00m MmReader  \u001b[38;5;66;03m# noqa: F401\u001b[39;00m\n\u001b[0;32m   1357\u001b[0m \u001b[38;5;28;01mexcept\u001b[39;00m \u001b[38;5;167;01mImportError\u001b[39;00m:\n\u001b[1;32m-> 1358\u001b[0m     \u001b[38;5;28;01mraise\u001b[39;00m utils\u001b[38;5;241m.\u001b[39mNO_CYTHON\n",
      "\u001b[1;31mRuntimeError\u001b[0m: Compiled extensions are unavailable. If you've installed from a package, ask the package maintainer to include compiled extensions. If you're building Gensim from source yourself, install Cython and a C compiler, and then run `python setup.py build_ext --inplace` to retry. "
     ]
    }
   ],
   "source": [
    "from gensim.models import Word2Vec"
   ]
  },
  {
   "cell_type": "code",
   "execution_count": 108,
   "id": "3fb1f56f-5eec-4b54-95c7-93c6c844c3af",
   "metadata": {},
   "outputs": [],
   "source": [
    "# Tokenizing the text column\n",
    "df['tokens'] = df['description_amenities'].apply(lambda x: x.split())"
   ]
  },
  {
   "cell_type": "code",
   "execution_count": null,
   "id": "774374c9-16de-4f6f-9ad3-e093609221f7",
   "metadata": {},
   "outputs": [],
   "source": [
    "# Training word2vec model\n",
    "word2vec_model = Word2Vec(sentences=df['tokens'], vector_size=100, window=5, min_count=1, workers=4)"
   ]
  },
  {
   "cell_type": "code",
   "execution_count": null,
   "id": "1ad595ee-eff9-496e-b637-d2b7bf5bcf04",
   "metadata": {},
   "outputs": [],
   "source": [
    "# Generating document embeddings by averaging word embeddings\n",
    "def get_document_embedding(tokens, model):\n",
    "    vectors = [model.wv[word] for word in tokens if word in model.wv]\n",
    "    if len(vectors) > 0:\n",
    "        return np.mean(vectors, axis=0)\n",
    "    else:\n",
    "        return np.zeros(model.vector_size)"
   ]
  },
  {
   "cell_type": "code",
   "execution_count": null,
   "id": "1529a71b-fdd5-4ca9-a34b-9939760d7dd4",
   "metadata": {},
   "outputs": [],
   "source": [
    "# Generating document embeddings for all listings\n",
    "df['embedding'] = df['tokens'].apply(lambda x: get_document_embedding(x, word2vec_model))"
   ]
  },
  {
   "cell_type": "code",
   "execution_count": null,
   "id": "58d4fc6b-02a2-48ca-abe2-d166c9048846",
   "metadata": {},
   "outputs": [],
   "source": [
    "# Getting recommendations based on user input\n",
    "def get_recommendations_from_input(user_input, price_range=None, top_n=5):\n",
    "    # Tokenizing user input\n",
    "    user_tokens = user_input.split()\n",
    "    \n",
    "    # Generating embedding for user input\n",
    "    user_embedding = get_document_embedding(user_tokens, word2vec_model)\n",
    "    \n",
    "    # Computing cosine similarity between user input and all listings\n",
    "    similarities = df['embedding'].apply(lambda x: cosine_similarity([user_embedding], [x])[0][0])\n",
    "    df['similarity'] = similarities\n",
    "    \n",
    "    # Sorting by similarity\n",
    "    df_sorted = df.sort_values(by='similarity', ascending=False)\n",
    "    \n",
    "    # Filtering by price range if required\n",
    "    if price_range:\n",
    "        min_price, max_price = price_range\n",
    "        recommendations = df_sorted[(df_sorted['price'] >= min_price) & (df_sorted['price'] <= max_price)]\n",
    "    else:\n",
    "        recommendations = df_sorted\n",
    "    \n",
    "    # Returning top N recommendations\n",
    "    return recommendations.head(top_n)[['name', 'price', 'description','amenities]]\n"
   ]
  },
  {
   "cell_type": "code",
   "execution_count": null,
   "id": "4f865149-3850-4f59-928e-eb0048f432c5",
   "metadata": {},
   "outputs": [],
   "source": [
    "user_input = \"cozy apartment wifi\"  \n",
    "price_range = (50, 200) \n",
    "recommendations = get_recommendations_from_input(user_input, price_range)\n",
    "recommendations"
   ]
  },
  {
   "cell_type": "code",
   "execution_count": null,
   "id": "fbeb423c-58e1-4a80-8aab-2d19954b05c8",
   "metadata": {},
   "outputs": [],
   "source": []
  }
 ],
 "metadata": {
  "kernelspec": {
   "display_name": "Python [conda env:base] *",
   "language": "python",
   "name": "conda-base-py"
  },
  "language_info": {
   "codemirror_mode": {
    "name": "ipython",
    "version": 3
   },
   "file_extension": ".py",
   "mimetype": "text/x-python",
   "name": "python",
   "nbconvert_exporter": "python",
   "pygments_lexer": "ipython3",
   "version": "3.12.4"
  }
 },
 "nbformat": 4,
 "nbformat_minor": 5
}
